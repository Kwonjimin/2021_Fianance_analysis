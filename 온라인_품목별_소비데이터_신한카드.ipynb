{
  "nbformat": 4,
  "nbformat_minor": 0,
  "metadata": {
    "colab": {
      "name": "온라인 품목별 소비데이터_신한카드.ipynb",
      "provenance": [],
      "collapsed_sections": [],
      "authorship_tag": "ABX9TyNs2iU2RgudIk+amKhOSGFJ",
      "include_colab_link": true
    },
    "kernelspec": {
      "name": "python3",
      "display_name": "Python 3"
    },
    "language_info": {
      "name": "python"
    }
  },
  "cells": [
    {
      "cell_type": "markdown",
      "metadata": {
        "id": "view-in-github",
        "colab_type": "text"
      },
      "source": [
        "<a href=\"https://colab.research.google.com/github/Kwonjimin/2021_Fianance_analysis/blob/main/%EC%98%A8%EB%9D%BC%EC%9D%B8_%ED%92%88%EB%AA%A9%EB%B3%84_%EC%86%8C%EB%B9%84%EB%8D%B0%EC%9D%B4%ED%84%B0_%EC%8B%A0%ED%95%9C%EC%B9%B4%EB%93%9C.ipynb\" target=\"_parent\"><img src=\"https://colab.research.google.com/assets/colab-badge.svg\" alt=\"Open In Colab\"/></a>"
      ]
    },
    {
      "cell_type": "markdown",
      "metadata": {
        "id": "G90Kksv6N8xZ"
      },
      "source": [
        "## 온라인 품목별 소비데이터\n",
        "\n",
        "# 1. 사용 데이터\n",
        "신한카드_온라인소비_기타업종_201904.csv (완료)\n",
        "\n",
        "신한카드_온라인소비_기타업종_202004.csv (완료)\n",
        "\n",
        "신한카드_온라인소비_서비스업종_201904.csv (완료)\n",
        "\n",
        "신한카드_온라인소비_서비스업종_202004.csv (완료)\n",
        "\n",
        "신한카드_온라인소비_유통업종_201904.csv\n",
        "\n",
        "신한카드_온라인소비_유통업종_202004.csv\n",
        "\n",
        "금융보안원_경진대회_데이터(최종제출).csv\n",
        "\n",
        "목표: 코로나 이후 온라인상에서 거래된 내역 비교"
      ]
    },
    {
      "cell_type": "markdown",
      "metadata": {
        "id": "570lAnPlPjR-"
      },
      "source": [
        "# 2. 데이터 로드"
      ]
    },
    {
      "cell_type": "code",
      "metadata": {
        "colab": {
          "base_uri": "https://localhost:8080/"
        },
        "id": "4fopY3fMGUYn",
        "outputId": "96f0948e-72ac-4760-de9f-ea83ca615a13"
      },
      "source": [
        "import pandas as pd\n",
        "from google.colab import drive\n",
        "drive.mount('/content/drive')"
      ],
      "execution_count": null,
      "outputs": [
        {
          "output_type": "stream",
          "text": [
            "Drive already mounted at /content/drive; to attempt to forcibly remount, call drive.mount(\"/content/drive\", force_remount=True).\n"
          ],
          "name": "stdout"
        }
      ]
    },
    {
      "cell_type": "code",
      "metadata": {
        "colab": {
          "base_uri": "https://localhost:8080/",
          "height": 35
        },
        "id": "oZ_mNYuaKBxF",
        "outputId": "5c537503-a900-439e-c611-22af68890fbf"
      },
      "source": [
        "#2019년 04월 기타 업종 파일\n",
        "filename_기타_19='/content/drive/MyDrive/Colab Notebooks/data/신한카드_온라인소비_기타업종_201904.csv'\n",
        "filename_기타_19"
      ],
      "execution_count": null,
      "outputs": [
        {
          "output_type": "execute_result",
          "data": {
            "application/vnd.google.colaboratory.intrinsic+json": {
              "type": "string"
            },
            "text/plain": [
              "'/content/drive/MyDrive/Colab Notebooks/data/신한카드_온라인소비_기타업종_201904.csv'"
            ]
          },
          "metadata": {},
          "execution_count": 2
        }
      ]
    },
    {
      "cell_type": "code",
      "metadata": {
        "id": "OMGT6ivJKMXZ"
      },
      "source": [
        "data_기타_19=pd.read_csv(filename_기타_19, thousands=',')"
      ],
      "execution_count": null,
      "outputs": []
    },
    {
      "cell_type": "code",
      "metadata": {
        "colab": {
          "base_uri": "https://localhost:8080/",
          "height": 203
        },
        "id": "S1xlY7wPN46k",
        "outputId": "e4c8b40d-6ed0-4019-abf3-08fe2f55fe9e"
      },
      "source": [
        "data_기타_19.columns=['기간','기준년월','업종','상세업종','시간','매출금액','매출건수','건당매출금액']\n",
        "data_기타_19.head()"
      ],
      "execution_count": null,
      "outputs": [
        {
          "output_type": "execute_result",
          "data": {
            "text/html": [
              "<div>\n",
              "<style scoped>\n",
              "    .dataframe tbody tr th:only-of-type {\n",
              "        vertical-align: middle;\n",
              "    }\n",
              "\n",
              "    .dataframe tbody tr th {\n",
              "        vertical-align: top;\n",
              "    }\n",
              "\n",
              "    .dataframe thead th {\n",
              "        text-align: right;\n",
              "    }\n",
              "</style>\n",
              "<table border=\"1\" class=\"dataframe\">\n",
              "  <thead>\n",
              "    <tr style=\"text-align: right;\">\n",
              "      <th></th>\n",
              "      <th>기간</th>\n",
              "      <th>기준년월</th>\n",
              "      <th>업종</th>\n",
              "      <th>상세업종</th>\n",
              "      <th>시간</th>\n",
              "      <th>매출금액</th>\n",
              "      <th>매출건수</th>\n",
              "      <th>건당매출금액</th>\n",
              "    </tr>\n",
              "  </thead>\n",
              "  <tbody>\n",
              "    <tr>\n",
              "      <th>0</th>\n",
              "      <td>20192Q</td>\n",
              "      <td>201904</td>\n",
              "      <td>교통</td>\n",
              "      <td>교통</td>\n",
              "      <td>00시-03시</td>\n",
              "      <td>1960230000</td>\n",
              "      <td>7171</td>\n",
              "      <td>273355</td>\n",
              "    </tr>\n",
              "    <tr>\n",
              "      <th>1</th>\n",
              "      <td>20192Q</td>\n",
              "      <td>201904</td>\n",
              "      <td>교통</td>\n",
              "      <td>교통</td>\n",
              "      <td>03시-06시</td>\n",
              "      <td>391328000</td>\n",
              "      <td>1604</td>\n",
              "      <td>243970</td>\n",
              "    </tr>\n",
              "    <tr>\n",
              "      <th>2</th>\n",
              "      <td>20192Q</td>\n",
              "      <td>201904</td>\n",
              "      <td>교통</td>\n",
              "      <td>교통</td>\n",
              "      <td>06시-09시</td>\n",
              "      <td>1412810000</td>\n",
              "      <td>8527</td>\n",
              "      <td>165687</td>\n",
              "    </tr>\n",
              "    <tr>\n",
              "      <th>3</th>\n",
              "      <td>20192Q</td>\n",
              "      <td>201904</td>\n",
              "      <td>교통</td>\n",
              "      <td>교통</td>\n",
              "      <td>09시-12시</td>\n",
              "      <td>6468202000</td>\n",
              "      <td>26731</td>\n",
              "      <td>241974</td>\n",
              "    </tr>\n",
              "    <tr>\n",
              "      <th>4</th>\n",
              "      <td>20192Q</td>\n",
              "      <td>201904</td>\n",
              "      <td>교통</td>\n",
              "      <td>교통</td>\n",
              "      <td>09시-15시</td>\n",
              "      <td>7179022000</td>\n",
              "      <td>28942</td>\n",
              "      <td>248049</td>\n",
              "    </tr>\n",
              "  </tbody>\n",
              "</table>\n",
              "</div>"
            ],
            "text/plain": [
              "       기간    기준년월    업종 상세업종       시간        매출금액   매출건수  건당매출금액\n",
              "0  20192Q  201904   교통    교통  00시-03시  1960230000   7171  273355\n",
              "1  20192Q  201904   교통    교통  03시-06시   391328000   1604  243970\n",
              "2  20192Q  201904   교통    교통  06시-09시  1412810000   8527  165687\n",
              "3  20192Q  201904   교통    교통  09시-12시  6468202000  26731  241974\n",
              "4  20192Q  201904   교통    교통  09시-15시  7179022000  28942  248049"
            ]
          },
          "metadata": {},
          "execution_count": 4
        }
      ]
    },
    {
      "cell_type": "code",
      "metadata": {
        "id": "iHwJHTQ3QFND"
      },
      "source": [
        "#2020년 04월 기타 업종 파일\n",
        "filename_기타_20='/content/drive/MyDrive/Colab Notebooks/data/신한카드_온라인소비_기타업종_202004.csv'"
      ],
      "execution_count": null,
      "outputs": []
    },
    {
      "cell_type": "code",
      "metadata": {
        "colab": {
          "base_uri": "https://localhost:8080/",
          "height": 35
        },
        "id": "Aen7_yPrQFY4",
        "outputId": "c0b88b75-8f0c-440c-89cf-e1898945af69"
      },
      "source": [
        "filename_기타_20"
      ],
      "execution_count": null,
      "outputs": [
        {
          "output_type": "execute_result",
          "data": {
            "application/vnd.google.colaboratory.intrinsic+json": {
              "type": "string"
            },
            "text/plain": [
              "'/content/drive/MyDrive/Colab Notebooks/data/신한카드_온라인소비_기타업종_202004.csv'"
            ]
          },
          "metadata": {},
          "execution_count": 6
        }
      ]
    },
    {
      "cell_type": "code",
      "metadata": {
        "colab": {
          "base_uri": "https://localhost:8080/",
          "height": 203
        },
        "id": "embF738FQFgR",
        "outputId": "5f6a5817-23de-4dc6-c213-bee8d1c66395"
      },
      "source": [
        "data_기타_20=pd.read_csv(filename_기타_20,thousands=',')\n",
        "data_기타_20.columns=['기간','기준년월','업종','상세업종','시간','매출금액','매출건수','건당매출금액']\n",
        "data_기타_20.head()"
      ],
      "execution_count": null,
      "outputs": [
        {
          "output_type": "execute_result",
          "data": {
            "text/html": [
              "<div>\n",
              "<style scoped>\n",
              "    .dataframe tbody tr th:only-of-type {\n",
              "        vertical-align: middle;\n",
              "    }\n",
              "\n",
              "    .dataframe tbody tr th {\n",
              "        vertical-align: top;\n",
              "    }\n",
              "\n",
              "    .dataframe thead th {\n",
              "        text-align: right;\n",
              "    }\n",
              "</style>\n",
              "<table border=\"1\" class=\"dataframe\">\n",
              "  <thead>\n",
              "    <tr style=\"text-align: right;\">\n",
              "      <th></th>\n",
              "      <th>기간</th>\n",
              "      <th>기준년월</th>\n",
              "      <th>업종</th>\n",
              "      <th>상세업종</th>\n",
              "      <th>시간</th>\n",
              "      <th>매출금액</th>\n",
              "      <th>매출건수</th>\n",
              "      <th>건당매출금액</th>\n",
              "    </tr>\n",
              "  </thead>\n",
              "  <tbody>\n",
              "    <tr>\n",
              "      <th>0</th>\n",
              "      <td>20202Q</td>\n",
              "      <td>202004</td>\n",
              "      <td>교육</td>\n",
              "      <td>교육</td>\n",
              "      <td>00시-03시</td>\n",
              "      <td>1106309000</td>\n",
              "      <td>12736</td>\n",
              "      <td>86865</td>\n",
              "    </tr>\n",
              "    <tr>\n",
              "      <th>1</th>\n",
              "      <td>20202Q</td>\n",
              "      <td>202004</td>\n",
              "      <td>교육</td>\n",
              "      <td>교육</td>\n",
              "      <td>03시-06시</td>\n",
              "      <td>160760000</td>\n",
              "      <td>2149</td>\n",
              "      <td>74807</td>\n",
              "    </tr>\n",
              "    <tr>\n",
              "      <th>2</th>\n",
              "      <td>20202Q</td>\n",
              "      <td>202004</td>\n",
              "      <td>교육</td>\n",
              "      <td>교육</td>\n",
              "      <td>06시-09시</td>\n",
              "      <td>767709000</td>\n",
              "      <td>6890</td>\n",
              "      <td>111424</td>\n",
              "    </tr>\n",
              "    <tr>\n",
              "      <th>3</th>\n",
              "      <td>20202Q</td>\n",
              "      <td>202004</td>\n",
              "      <td>교육</td>\n",
              "      <td>교육</td>\n",
              "      <td>09시-12시</td>\n",
              "      <td>3500548000</td>\n",
              "      <td>30633</td>\n",
              "      <td>114274</td>\n",
              "    </tr>\n",
              "    <tr>\n",
              "      <th>4</th>\n",
              "      <td>20202Q</td>\n",
              "      <td>202004</td>\n",
              "      <td>교육</td>\n",
              "      <td>교육</td>\n",
              "      <td>09시-15시</td>\n",
              "      <td>4513557000</td>\n",
              "      <td>36966</td>\n",
              "      <td>122100</td>\n",
              "    </tr>\n",
              "  </tbody>\n",
              "</table>\n",
              "</div>"
            ],
            "text/plain": [
              "       기간    기준년월  업종 상세업종       시간        매출금액   매출건수  건당매출금액\n",
              "0  20202Q  202004  교육   교육  00시-03시  1106309000  12736   86865\n",
              "1  20202Q  202004  교육   교육  03시-06시   160760000   2149   74807\n",
              "2  20202Q  202004  교육   교육  06시-09시   767709000   6890  111424\n",
              "3  20202Q  202004  교육   교육  09시-12시  3500548000  30633  114274\n",
              "4  20202Q  202004  교육   교육  09시-15시  4513557000  36966  122100"
            ]
          },
          "metadata": {},
          "execution_count": 7
        }
      ]
    },
    {
      "cell_type": "code",
      "metadata": {
        "id": "rF5vFZe7QFoo",
        "colab": {
          "base_uri": "https://localhost:8080/",
          "height": 203
        },
        "outputId": "12ffc98b-6b9c-4e61-8ab4-5970b4232a5d"
      },
      "source": [
        "#2019년 04월 서비스 업종 파일\n",
        "filename_서비스_19='/content/drive/MyDrive/Colab Notebooks/data/신한카드_온라인소비_서비스업종_201904.csv'\n",
        "data_서비스_19=pd.read_csv(filename_서비스_19, thousands=',')\n",
        "data_서비스_19.columns=['기간','기준년월','업종','상세업종','시간','매출금액','매출건수','건당매출금액']\n",
        "data_서비스_19.head()"
      ],
      "execution_count": null,
      "outputs": [
        {
          "output_type": "execute_result",
          "data": {
            "text/html": [
              "<div>\n",
              "<style scoped>\n",
              "    .dataframe tbody tr th:only-of-type {\n",
              "        vertical-align: middle;\n",
              "    }\n",
              "\n",
              "    .dataframe tbody tr th {\n",
              "        vertical-align: top;\n",
              "    }\n",
              "\n",
              "    .dataframe thead th {\n",
              "        text-align: right;\n",
              "    }\n",
              "</style>\n",
              "<table border=\"1\" class=\"dataframe\">\n",
              "  <thead>\n",
              "    <tr style=\"text-align: right;\">\n",
              "      <th></th>\n",
              "      <th>기간</th>\n",
              "      <th>기준년월</th>\n",
              "      <th>업종</th>\n",
              "      <th>상세업종</th>\n",
              "      <th>시간</th>\n",
              "      <th>매출금액</th>\n",
              "      <th>매출건수</th>\n",
              "      <th>건당매출금액</th>\n",
              "    </tr>\n",
              "  </thead>\n",
              "  <tbody>\n",
              "    <tr>\n",
              "      <th>0</th>\n",
              "      <td>20192Q</td>\n",
              "      <td>201904</td>\n",
              "      <td>서비스</td>\n",
              "      <td>관광/레져</td>\n",
              "      <td>00시-03시</td>\n",
              "      <td>4390532000</td>\n",
              "      <td>92077</td>\n",
              "      <td>47683</td>\n",
              "    </tr>\n",
              "    <tr>\n",
              "      <th>1</th>\n",
              "      <td>20192Q</td>\n",
              "      <td>201904</td>\n",
              "      <td>서비스</td>\n",
              "      <td>관광/레져</td>\n",
              "      <td>03시-06시</td>\n",
              "      <td>1053376000</td>\n",
              "      <td>23793</td>\n",
              "      <td>44273</td>\n",
              "    </tr>\n",
              "    <tr>\n",
              "      <th>2</th>\n",
              "      <td>20192Q</td>\n",
              "      <td>201904</td>\n",
              "      <td>서비스</td>\n",
              "      <td>관광/레져</td>\n",
              "      <td>06시-09시</td>\n",
              "      <td>2370602000</td>\n",
              "      <td>39395</td>\n",
              "      <td>60175</td>\n",
              "    </tr>\n",
              "    <tr>\n",
              "      <th>3</th>\n",
              "      <td>20192Q</td>\n",
              "      <td>201904</td>\n",
              "      <td>서비스</td>\n",
              "      <td>관광/레져</td>\n",
              "      <td>09시-12시</td>\n",
              "      <td>16541349000</td>\n",
              "      <td>123125</td>\n",
              "      <td>134346</td>\n",
              "    </tr>\n",
              "    <tr>\n",
              "      <th>4</th>\n",
              "      <td>20192Q</td>\n",
              "      <td>201904</td>\n",
              "      <td>서비스</td>\n",
              "      <td>관광/레져</td>\n",
              "      <td>09시-15시</td>\n",
              "      <td>15953366000</td>\n",
              "      <td>138086</td>\n",
              "      <td>115532</td>\n",
              "    </tr>\n",
              "  </tbody>\n",
              "</table>\n",
              "</div>"
            ],
            "text/plain": [
              "       기간    기준년월     업종   상세업종       시간         매출금액    매출건수  건당매출금액\n",
              "0  20192Q  201904   서비스   관광/레져  00시-03시   4390532000   92077   47683\n",
              "1  20192Q  201904   서비스   관광/레져  03시-06시   1053376000   23793   44273\n",
              "2  20192Q  201904   서비스   관광/레져  06시-09시   2370602000   39395   60175\n",
              "3  20192Q  201904   서비스   관광/레져  09시-12시  16541349000  123125  134346\n",
              "4  20192Q  201904   서비스   관광/레져  09시-15시  15953366000  138086  115532"
            ]
          },
          "metadata": {},
          "execution_count": 26
        }
      ]
    },
    {
      "cell_type": "code",
      "metadata": {
        "id": "zGqZ1_JFQFvq",
        "colab": {
          "base_uri": "https://localhost:8080/",
          "height": 203
        },
        "outputId": "3d49a96c-8f57-46fe-c57b-6fabc6f5390e"
      },
      "source": [
        "#2020년 04월 서비스 업종 파일\n",
        "filename_서비스_20='/content/drive/MyDrive/Colab Notebooks/data/신한카드_온라인소비_서비스업종_202004.csv'\n",
        "data_서비스_20=pd.read_csv(filename_서비스_20, thousands=',')\n",
        "data_서비스_20.columns=['기간','기준년월','업종','상세업종','시간','매출금액','매출건수','건당매출금액']\n",
        "data_서비스_20.head()"
      ],
      "execution_count": null,
      "outputs": [
        {
          "output_type": "execute_result",
          "data": {
            "text/html": [
              "<div>\n",
              "<style scoped>\n",
              "    .dataframe tbody tr th:only-of-type {\n",
              "        vertical-align: middle;\n",
              "    }\n",
              "\n",
              "    .dataframe tbody tr th {\n",
              "        vertical-align: top;\n",
              "    }\n",
              "\n",
              "    .dataframe thead th {\n",
              "        text-align: right;\n",
              "    }\n",
              "</style>\n",
              "<table border=\"1\" class=\"dataframe\">\n",
              "  <thead>\n",
              "    <tr style=\"text-align: right;\">\n",
              "      <th></th>\n",
              "      <th>기간</th>\n",
              "      <th>기준년월</th>\n",
              "      <th>업종</th>\n",
              "      <th>상세업종</th>\n",
              "      <th>시간</th>\n",
              "      <th>매출금액</th>\n",
              "      <th>매출건수</th>\n",
              "      <th>건당매출금액</th>\n",
              "    </tr>\n",
              "  </thead>\n",
              "  <tbody>\n",
              "    <tr>\n",
              "      <th>0</th>\n",
              "      <td>20202Q</td>\n",
              "      <td>202004</td>\n",
              "      <td>서비스</td>\n",
              "      <td>관광/레져</td>\n",
              "      <td>00시-03시</td>\n",
              "      <td>4211387000</td>\n",
              "      <td>94349</td>\n",
              "      <td>44636</td>\n",
              "    </tr>\n",
              "    <tr>\n",
              "      <th>1</th>\n",
              "      <td>20202Q</td>\n",
              "      <td>202004</td>\n",
              "      <td>서비스</td>\n",
              "      <td>관광/레져</td>\n",
              "      <td>03시-06시</td>\n",
              "      <td>1208265000</td>\n",
              "      <td>28875</td>\n",
              "      <td>41845</td>\n",
              "    </tr>\n",
              "    <tr>\n",
              "      <th>2</th>\n",
              "      <td>20202Q</td>\n",
              "      <td>202004</td>\n",
              "      <td>서비스</td>\n",
              "      <td>관광/레져</td>\n",
              "      <td>06시-09시</td>\n",
              "      <td>2025094000</td>\n",
              "      <td>32284</td>\n",
              "      <td>62727</td>\n",
              "    </tr>\n",
              "    <tr>\n",
              "      <th>3</th>\n",
              "      <td>20202Q</td>\n",
              "      <td>202004</td>\n",
              "      <td>서비스</td>\n",
              "      <td>관광/레져</td>\n",
              "      <td>09시-12시</td>\n",
              "      <td>6209005000</td>\n",
              "      <td>89443</td>\n",
              "      <td>69419</td>\n",
              "    </tr>\n",
              "    <tr>\n",
              "      <th>4</th>\n",
              "      <td>20202Q</td>\n",
              "      <td>202004</td>\n",
              "      <td>서비스</td>\n",
              "      <td>관광/레져</td>\n",
              "      <td>09시-15시</td>\n",
              "      <td>6829755000</td>\n",
              "      <td>112759</td>\n",
              "      <td>60569</td>\n",
              "    </tr>\n",
              "  </tbody>\n",
              "</table>\n",
              "</div>"
            ],
            "text/plain": [
              "       기간    기준년월   업종   상세업종       시간        매출금액    매출건수  건당매출금액\n",
              "0  20202Q  202004  서비스  관광/레져  00시-03시  4211387000   94349   44636\n",
              "1  20202Q  202004  서비스  관광/레져  03시-06시  1208265000   28875   41845\n",
              "2  20202Q  202004  서비스  관광/레져  06시-09시  2025094000   32284   62727\n",
              "3  20202Q  202004  서비스  관광/레져  09시-12시  6209005000   89443   69419\n",
              "4  20202Q  202004  서비스  관광/레져  09시-15시  6829755000  112759   60569"
            ]
          },
          "metadata": {},
          "execution_count": 27
        }
      ]
    },
    {
      "cell_type": "code",
      "metadata": {
        "id": "a_xOx2sLQF0q",
        "colab": {
          "base_uri": "https://localhost:8080/",
          "height": 203
        },
        "outputId": "65c3ce39-495b-46d2-ffc3-c1bf36fc9838"
      },
      "source": [
        "#2019년 04월 유통 업종 파일\n",
        "filename_유통_19='/content/drive/MyDrive/Colab Notebooks/data/신한카드_온라인소비_유통업종_201904.csv'\n",
        "data_유통_19=pd.read_csv(filename_유통_19, thousands=',')\n",
        "data_유통_19.columns=['기간','기준년월','업종','상세업종','시간','매출금액','매출건수','건당매출금액']\n",
        "data_유통_19.head()"
      ],
      "execution_count": null,
      "outputs": [
        {
          "output_type": "execute_result",
          "data": {
            "text/html": [
              "<div>\n",
              "<style scoped>\n",
              "    .dataframe tbody tr th:only-of-type {\n",
              "        vertical-align: middle;\n",
              "    }\n",
              "\n",
              "    .dataframe tbody tr th {\n",
              "        vertical-align: top;\n",
              "    }\n",
              "\n",
              "    .dataframe thead th {\n",
              "        text-align: right;\n",
              "    }\n",
              "</style>\n",
              "<table border=\"1\" class=\"dataframe\">\n",
              "  <thead>\n",
              "    <tr style=\"text-align: right;\">\n",
              "      <th></th>\n",
              "      <th>기간</th>\n",
              "      <th>기준년월</th>\n",
              "      <th>업종</th>\n",
              "      <th>상세업종</th>\n",
              "      <th>시간</th>\n",
              "      <th>매출금액</th>\n",
              "      <th>매출건수</th>\n",
              "      <th>건당매출금액</th>\n",
              "    </tr>\n",
              "  </thead>\n",
              "  <tbody>\n",
              "    <tr>\n",
              "      <th>0</th>\n",
              "      <td>20192Q</td>\n",
              "      <td>201904</td>\n",
              "      <td>유통</td>\n",
              "      <td>대형이커머스</td>\n",
              "      <td>00시-03시</td>\n",
              "      <td>67835110000</td>\n",
              "      <td>1460791</td>\n",
              "      <td>46437</td>\n",
              "    </tr>\n",
              "    <tr>\n",
              "      <th>1</th>\n",
              "      <td>20192Q</td>\n",
              "      <td>201904</td>\n",
              "      <td>유통</td>\n",
              "      <td>대형이커머스</td>\n",
              "      <td>03시-06시</td>\n",
              "      <td>16756200000</td>\n",
              "      <td>359502</td>\n",
              "      <td>46609</td>\n",
              "    </tr>\n",
              "    <tr>\n",
              "      <th>2</th>\n",
              "      <td>20192Q</td>\n",
              "      <td>201904</td>\n",
              "      <td>유통</td>\n",
              "      <td>대형이커머스</td>\n",
              "      <td>06시-09시</td>\n",
              "      <td>50656932000</td>\n",
              "      <td>1156789</td>\n",
              "      <td>43791</td>\n",
              "    </tr>\n",
              "    <tr>\n",
              "      <th>3</th>\n",
              "      <td>20192Q</td>\n",
              "      <td>201904</td>\n",
              "      <td>유통</td>\n",
              "      <td>대형이커머스</td>\n",
              "      <td>09시-12시</td>\n",
              "      <td>146793974000</td>\n",
              "      <td>2614552</td>\n",
              "      <td>56145</td>\n",
              "    </tr>\n",
              "    <tr>\n",
              "      <th>4</th>\n",
              "      <td>20192Q</td>\n",
              "      <td>201904</td>\n",
              "      <td>유통</td>\n",
              "      <td>대형이커머스</td>\n",
              "      <td>09시-15시</td>\n",
              "      <td>152581168000</td>\n",
              "      <td>2609486</td>\n",
              "      <td>58472</td>\n",
              "    </tr>\n",
              "  </tbody>\n",
              "</table>\n",
              "</div>"
            ],
            "text/plain": [
              "       기간    기준년월    업종    상세업종       시간          매출금액     매출건수  건당매출금액\n",
              "0  20192Q  201904   유통   대형이커머스  00시-03시   67835110000  1460791   46437\n",
              "1  20192Q  201904   유통   대형이커머스  03시-06시   16756200000   359502   46609\n",
              "2  20192Q  201904   유통   대형이커머스  06시-09시   50656932000  1156789   43791\n",
              "3  20192Q  201904   유통   대형이커머스  09시-12시  146793974000  2614552   56145\n",
              "4  20192Q  201904   유통   대형이커머스  09시-15시  152581168000  2609486   58472"
            ]
          },
          "metadata": {},
          "execution_count": 79
        }
      ]
    },
    {
      "cell_type": "code",
      "metadata": {
        "id": "NAXxW3cCQF-6",
        "colab": {
          "base_uri": "https://localhost:8080/",
          "height": 203
        },
        "outputId": "84b5bfc7-3418-40cf-f72b-d29177d38f71"
      },
      "source": [
        "#2020년 04월 유통 업종 파일\n",
        "filename_유통_20='/content/drive/MyDrive/Colab Notebooks/data/신한카드_온라인소비_유통업종_202004.csv'\n",
        "data_유통_20=pd.read_csv(filename_유통_20, thousands=',')\n",
        "data_유통_20.columns=['기간','기준년월','업종','상세업종','시간','매출금액','매출건수','건당매출금액']\n",
        "data_유통_20.head()"
      ],
      "execution_count": null,
      "outputs": [
        {
          "output_type": "execute_result",
          "data": {
            "text/html": [
              "<div>\n",
              "<style scoped>\n",
              "    .dataframe tbody tr th:only-of-type {\n",
              "        vertical-align: middle;\n",
              "    }\n",
              "\n",
              "    .dataframe tbody tr th {\n",
              "        vertical-align: top;\n",
              "    }\n",
              "\n",
              "    .dataframe thead th {\n",
              "        text-align: right;\n",
              "    }\n",
              "</style>\n",
              "<table border=\"1\" class=\"dataframe\">\n",
              "  <thead>\n",
              "    <tr style=\"text-align: right;\">\n",
              "      <th></th>\n",
              "      <th>기간</th>\n",
              "      <th>기준년월</th>\n",
              "      <th>업종</th>\n",
              "      <th>상세업종</th>\n",
              "      <th>시간</th>\n",
              "      <th>매출금액</th>\n",
              "      <th>매출건수</th>\n",
              "      <th>건당매출금액</th>\n",
              "    </tr>\n",
              "  </thead>\n",
              "  <tbody>\n",
              "    <tr>\n",
              "      <th>0</th>\n",
              "      <td>20202Q</td>\n",
              "      <td>202004</td>\n",
              "      <td>유통</td>\n",
              "      <td>온라인쇼핑</td>\n",
              "      <td>00시-03시</td>\n",
              "      <td>9208784000</td>\n",
              "      <td>139136</td>\n",
              "      <td>66185</td>\n",
              "    </tr>\n",
              "    <tr>\n",
              "      <th>1</th>\n",
              "      <td>20202Q</td>\n",
              "      <td>202004</td>\n",
              "      <td>유통</td>\n",
              "      <td>온라인쇼핑</td>\n",
              "      <td>03시-06시</td>\n",
              "      <td>2163347000</td>\n",
              "      <td>36965</td>\n",
              "      <td>58524</td>\n",
              "    </tr>\n",
              "    <tr>\n",
              "      <th>2</th>\n",
              "      <td>20202Q</td>\n",
              "      <td>202004</td>\n",
              "      <td>유통</td>\n",
              "      <td>온라인쇼핑</td>\n",
              "      <td>06시-09시</td>\n",
              "      <td>7092415000</td>\n",
              "      <td>102090</td>\n",
              "      <td>69472</td>\n",
              "    </tr>\n",
              "    <tr>\n",
              "      <th>3</th>\n",
              "      <td>20202Q</td>\n",
              "      <td>202004</td>\n",
              "      <td>유통</td>\n",
              "      <td>온라인쇼핑</td>\n",
              "      <td>09시-12시</td>\n",
              "      <td>38573207000</td>\n",
              "      <td>428669</td>\n",
              "      <td>89984</td>\n",
              "    </tr>\n",
              "    <tr>\n",
              "      <th>4</th>\n",
              "      <td>20202Q</td>\n",
              "      <td>202004</td>\n",
              "      <td>유통</td>\n",
              "      <td>온라인쇼핑</td>\n",
              "      <td>09시-15시</td>\n",
              "      <td>40044663000</td>\n",
              "      <td>435692</td>\n",
              "      <td>91910</td>\n",
              "    </tr>\n",
              "  </tbody>\n",
              "</table>\n",
              "</div>"
            ],
            "text/plain": [
              "       기간    기준년월  업종   상세업종       시간         매출금액    매출건수  건당매출금액\n",
              "0  20202Q  202004  유통  온라인쇼핑  00시-03시   9208784000  139136   66185\n",
              "1  20202Q  202004  유통  온라인쇼핑  03시-06시   2163347000   36965   58524\n",
              "2  20202Q  202004  유통  온라인쇼핑  06시-09시   7092415000  102090   69472\n",
              "3  20202Q  202004  유통  온라인쇼핑  09시-12시  38573207000  428669   89984\n",
              "4  20202Q  202004  유통  온라인쇼핑  09시-15시  40044663000  435692   91910"
            ]
          },
          "metadata": {},
          "execution_count": 80
        }
      ]
    },
    {
      "cell_type": "code",
      "metadata": {
        "id": "T-pRIaPWQGJa"
      },
      "source": [
        "# 코로나 이후 타격이 심한 업종 (관광 레져)\n",
        "data_관광_레져_19 = data_서비스_19['상세업종']=='관광/레져'\n",
        "data_관광_레져_19 = data_서비스_19[data_관광_레져_19]"
      ],
      "execution_count": null,
      "outputs": []
    },
    {
      "cell_type": "code",
      "metadata": {
        "id": "wfFcmwZ3QGPX",
        "colab": {
          "base_uri": "https://localhost:8080/",
          "height": 295
        },
        "outputId": "2832d684-2e04-44e0-a829-0ba651d73b20"
      },
      "source": [
        "data_관광_레져_19"
      ],
      "execution_count": null,
      "outputs": [
        {
          "output_type": "execute_result",
          "data": {
            "text/html": [
              "<div>\n",
              "<style scoped>\n",
              "    .dataframe tbody tr th:only-of-type {\n",
              "        vertical-align: middle;\n",
              "    }\n",
              "\n",
              "    .dataframe tbody tr th {\n",
              "        vertical-align: top;\n",
              "    }\n",
              "\n",
              "    .dataframe thead th {\n",
              "        text-align: right;\n",
              "    }\n",
              "</style>\n",
              "<table border=\"1\" class=\"dataframe\">\n",
              "  <thead>\n",
              "    <tr style=\"text-align: right;\">\n",
              "      <th></th>\n",
              "      <th>기간</th>\n",
              "      <th>기준년월</th>\n",
              "      <th>업종</th>\n",
              "      <th>상세업종</th>\n",
              "      <th>시간</th>\n",
              "      <th>매출금액</th>\n",
              "      <th>매출건수</th>\n",
              "      <th>건당매출금액</th>\n",
              "    </tr>\n",
              "  </thead>\n",
              "  <tbody>\n",
              "    <tr>\n",
              "      <th>0</th>\n",
              "      <td>20192Q</td>\n",
              "      <td>201904</td>\n",
              "      <td>서비스</td>\n",
              "      <td>관광/레져</td>\n",
              "      <td>00시-03시</td>\n",
              "      <td>4390532000</td>\n",
              "      <td>92077</td>\n",
              "      <td>47683</td>\n",
              "    </tr>\n",
              "    <tr>\n",
              "      <th>1</th>\n",
              "      <td>20192Q</td>\n",
              "      <td>201904</td>\n",
              "      <td>서비스</td>\n",
              "      <td>관광/레져</td>\n",
              "      <td>03시-06시</td>\n",
              "      <td>1053376000</td>\n",
              "      <td>23793</td>\n",
              "      <td>44273</td>\n",
              "    </tr>\n",
              "    <tr>\n",
              "      <th>2</th>\n",
              "      <td>20192Q</td>\n",
              "      <td>201904</td>\n",
              "      <td>서비스</td>\n",
              "      <td>관광/레져</td>\n",
              "      <td>06시-09시</td>\n",
              "      <td>2370602000</td>\n",
              "      <td>39395</td>\n",
              "      <td>60175</td>\n",
              "    </tr>\n",
              "    <tr>\n",
              "      <th>3</th>\n",
              "      <td>20192Q</td>\n",
              "      <td>201904</td>\n",
              "      <td>서비스</td>\n",
              "      <td>관광/레져</td>\n",
              "      <td>09시-12시</td>\n",
              "      <td>16541349000</td>\n",
              "      <td>123125</td>\n",
              "      <td>134346</td>\n",
              "    </tr>\n",
              "    <tr>\n",
              "      <th>4</th>\n",
              "      <td>20192Q</td>\n",
              "      <td>201904</td>\n",
              "      <td>서비스</td>\n",
              "      <td>관광/레져</td>\n",
              "      <td>09시-15시</td>\n",
              "      <td>15953366000</td>\n",
              "      <td>138086</td>\n",
              "      <td>115532</td>\n",
              "    </tr>\n",
              "    <tr>\n",
              "      <th>5</th>\n",
              "      <td>20192Q</td>\n",
              "      <td>201904</td>\n",
              "      <td>서비스</td>\n",
              "      <td>관광/레져</td>\n",
              "      <td>15시-18시</td>\n",
              "      <td>16964889000</td>\n",
              "      <td>142957</td>\n",
              "      <td>118671</td>\n",
              "    </tr>\n",
              "    <tr>\n",
              "      <th>6</th>\n",
              "      <td>20192Q</td>\n",
              "      <td>201904</td>\n",
              "      <td>서비스</td>\n",
              "      <td>관광/레져</td>\n",
              "      <td>18시-21시</td>\n",
              "      <td>10736590000</td>\n",
              "      <td>163694</td>\n",
              "      <td>65589</td>\n",
              "    </tr>\n",
              "    <tr>\n",
              "      <th>7</th>\n",
              "      <td>20192Q</td>\n",
              "      <td>201904</td>\n",
              "      <td>서비스</td>\n",
              "      <td>관광/레져</td>\n",
              "      <td>21시-24시</td>\n",
              "      <td>10177494000</td>\n",
              "      <td>178992</td>\n",
              "      <td>56860</td>\n",
              "    </tr>\n",
              "  </tbody>\n",
              "</table>\n",
              "</div>"
            ],
            "text/plain": [
              "       기간    기준년월     업종   상세업종       시간         매출금액    매출건수  건당매출금액\n",
              "0  20192Q  201904   서비스   관광/레져  00시-03시   4390532000   92077   47683\n",
              "1  20192Q  201904   서비스   관광/레져  03시-06시   1053376000   23793   44273\n",
              "2  20192Q  201904   서비스   관광/레져  06시-09시   2370602000   39395   60175\n",
              "3  20192Q  201904   서비스   관광/레져  09시-12시  16541349000  123125  134346\n",
              "4  20192Q  201904   서비스   관광/레져  09시-15시  15953366000  138086  115532\n",
              "5  20192Q  201904   서비스   관광/레져  15시-18시  16964889000  142957  118671\n",
              "6  20192Q  201904   서비스   관광/레져  18시-21시  10736590000  163694   65589\n",
              "7  20192Q  201904   서비스   관광/레져  21시-24시  10177494000  178992   56860"
            ]
          },
          "metadata": {},
          "execution_count": 103
        }
      ]
    },
    {
      "cell_type": "code",
      "metadata": {
        "id": "Mqq4JSnJQGbC"
      },
      "source": [
        "data_관광_레져_20 = data_서비스_20['상세업종']=='관광/레져'\n",
        "data_관광_레져_20 = data_서비스_20[data_관광_레져_20]"
      ],
      "execution_count": null,
      "outputs": []
    },
    {
      "cell_type": "code",
      "metadata": {
        "id": "RuQzO_QZQGji",
        "colab": {
          "base_uri": "https://localhost:8080/",
          "height": 265
        },
        "outputId": "fedf96bf-ffe1-4641-c75c-b9244b449353"
      },
      "source": [
        "data_관광_레져_20"
      ],
      "execution_count": null,
      "outputs": [
        {
          "output_type": "execute_result",
          "data": {
            "text/html": [
              "<div>\n",
              "<style scoped>\n",
              "    .dataframe tbody tr th:only-of-type {\n",
              "        vertical-align: middle;\n",
              "    }\n",
              "\n",
              "    .dataframe tbody tr th {\n",
              "        vertical-align: top;\n",
              "    }\n",
              "\n",
              "    .dataframe thead th {\n",
              "        text-align: right;\n",
              "    }\n",
              "</style>\n",
              "<table border=\"1\" class=\"dataframe\">\n",
              "  <thead>\n",
              "    <tr style=\"text-align: right;\">\n",
              "      <th></th>\n",
              "      <th>기간</th>\n",
              "      <th>기준년월</th>\n",
              "      <th>업종</th>\n",
              "      <th>상세업종</th>\n",
              "      <th>시간</th>\n",
              "      <th>매출금액</th>\n",
              "      <th>매출건수</th>\n",
              "      <th>건당매출금액</th>\n",
              "    </tr>\n",
              "  </thead>\n",
              "  <tbody>\n",
              "    <tr>\n",
              "      <th>1</th>\n",
              "      <td>20202Q</td>\n",
              "      <td>202004</td>\n",
              "      <td>서비스</td>\n",
              "      <td>관광/레져</td>\n",
              "      <td>03시-06시</td>\n",
              "      <td>1208265000</td>\n",
              "      <td>28875</td>\n",
              "      <td>41845</td>\n",
              "    </tr>\n",
              "    <tr>\n",
              "      <th>2</th>\n",
              "      <td>20202Q</td>\n",
              "      <td>202004</td>\n",
              "      <td>서비스</td>\n",
              "      <td>관광/레져</td>\n",
              "      <td>06시-09시</td>\n",
              "      <td>2025094000</td>\n",
              "      <td>32284</td>\n",
              "      <td>62727</td>\n",
              "    </tr>\n",
              "    <tr>\n",
              "      <th>3</th>\n",
              "      <td>20202Q</td>\n",
              "      <td>202004</td>\n",
              "      <td>서비스</td>\n",
              "      <td>관광/레져</td>\n",
              "      <td>09시-12시</td>\n",
              "      <td>6209005000</td>\n",
              "      <td>89443</td>\n",
              "      <td>69419</td>\n",
              "    </tr>\n",
              "    <tr>\n",
              "      <th>4</th>\n",
              "      <td>20202Q</td>\n",
              "      <td>202004</td>\n",
              "      <td>서비스</td>\n",
              "      <td>관광/레져</td>\n",
              "      <td>09시-15시</td>\n",
              "      <td>6829755000</td>\n",
              "      <td>112759</td>\n",
              "      <td>60569</td>\n",
              "    </tr>\n",
              "    <tr>\n",
              "      <th>5</th>\n",
              "      <td>20202Q</td>\n",
              "      <td>202004</td>\n",
              "      <td>서비스</td>\n",
              "      <td>관광/레져</td>\n",
              "      <td>15시-18시</td>\n",
              "      <td>6643612000</td>\n",
              "      <td>117187</td>\n",
              "      <td>56692</td>\n",
              "    </tr>\n",
              "    <tr>\n",
              "      <th>6</th>\n",
              "      <td>20202Q</td>\n",
              "      <td>202004</td>\n",
              "      <td>서비스</td>\n",
              "      <td>관광/레져</td>\n",
              "      <td>18시-21시</td>\n",
              "      <td>7140215000</td>\n",
              "      <td>137463</td>\n",
              "      <td>51943</td>\n",
              "    </tr>\n",
              "    <tr>\n",
              "      <th>7</th>\n",
              "      <td>20202Q</td>\n",
              "      <td>202004</td>\n",
              "      <td>서비스</td>\n",
              "      <td>관광/레져</td>\n",
              "      <td>21시-24시</td>\n",
              "      <td>7813033000</td>\n",
              "      <td>159966</td>\n",
              "      <td>48842</td>\n",
              "    </tr>\n",
              "  </tbody>\n",
              "</table>\n",
              "</div>"
            ],
            "text/plain": [
              "       기간    기준년월   업종   상세업종       시간        매출금액    매출건수  건당매출금액\n",
              "1  20202Q  202004  서비스  관광/레져  03시-06시  1208265000   28875   41845\n",
              "2  20202Q  202004  서비스  관광/레져  06시-09시  2025094000   32284   62727\n",
              "3  20202Q  202004  서비스  관광/레져  09시-12시  6209005000   89443   69419\n",
              "4  20202Q  202004  서비스  관광/레져  09시-15시  6829755000  112759   60569\n",
              "5  20202Q  202004  서비스  관광/레져  15시-18시  6643612000  117187   56692\n",
              "6  20202Q  202004  서비스  관광/레져  18시-21시  7140215000  137463   51943\n",
              "7  20202Q  202004  서비스  관광/레져  21시-24시  7813033000  159966   48842"
            ]
          },
          "metadata": {},
          "execution_count": 110
        }
      ]
    },
    {
      "cell_type": "code",
      "metadata": {
        "id": "O87Y0_G3QGtx",
        "colab": {
          "base_uri": "https://localhost:8080/",
          "height": 295
        },
        "outputId": "58d65a28-6431-404d-e0af-93bab060ed06"
      },
      "source": [
        "# 코로나 이후 거래가 늘어난 업종 (배달서비스)\n",
        "data_배달서비스_19 = data_서비스_19['상세업종']=='배달서비스'\n",
        "data_배달서비스_19 = data_서비스_19[data_배달서비스_19]\n",
        "data_배달서비스_19"
      ],
      "execution_count": null,
      "outputs": [
        {
          "output_type": "execute_result",
          "data": {
            "text/html": [
              "<div>\n",
              "<style scoped>\n",
              "    .dataframe tbody tr th:only-of-type {\n",
              "        vertical-align: middle;\n",
              "    }\n",
              "\n",
              "    .dataframe tbody tr th {\n",
              "        vertical-align: top;\n",
              "    }\n",
              "\n",
              "    .dataframe thead th {\n",
              "        text-align: right;\n",
              "    }\n",
              "</style>\n",
              "<table border=\"1\" class=\"dataframe\">\n",
              "  <thead>\n",
              "    <tr style=\"text-align: right;\">\n",
              "      <th></th>\n",
              "      <th>기간</th>\n",
              "      <th>기준년월</th>\n",
              "      <th>업종</th>\n",
              "      <th>상세업종</th>\n",
              "      <th>시간</th>\n",
              "      <th>매출금액</th>\n",
              "      <th>매출건수</th>\n",
              "      <th>건당매출금액</th>\n",
              "    </tr>\n",
              "  </thead>\n",
              "  <tbody>\n",
              "    <tr>\n",
              "      <th>8</th>\n",
              "      <td>20192Q</td>\n",
              "      <td>201904</td>\n",
              "      <td>서비스</td>\n",
              "      <td>배달서비스</td>\n",
              "      <td>00시-03시</td>\n",
              "      <td>2003130000</td>\n",
              "      <td>91878</td>\n",
              "      <td>21802</td>\n",
              "    </tr>\n",
              "    <tr>\n",
              "      <th>9</th>\n",
              "      <td>20192Q</td>\n",
              "      <td>201904</td>\n",
              "      <td>서비스</td>\n",
              "      <td>배달서비스</td>\n",
              "      <td>03시-06시</td>\n",
              "      <td>359864000</td>\n",
              "      <td>16920</td>\n",
              "      <td>21269</td>\n",
              "    </tr>\n",
              "    <tr>\n",
              "      <th>10</th>\n",
              "      <td>20192Q</td>\n",
              "      <td>201904</td>\n",
              "      <td>서비스</td>\n",
              "      <td>배달서비스</td>\n",
              "      <td>06시-09시</td>\n",
              "      <td>244046000</td>\n",
              "      <td>12375</td>\n",
              "      <td>19721</td>\n",
              "    </tr>\n",
              "    <tr>\n",
              "      <th>11</th>\n",
              "      <td>20192Q</td>\n",
              "      <td>201904</td>\n",
              "      <td>서비스</td>\n",
              "      <td>배달서비스</td>\n",
              "      <td>09시-12시</td>\n",
              "      <td>4276010000</td>\n",
              "      <td>219854</td>\n",
              "      <td>19449</td>\n",
              "    </tr>\n",
              "    <tr>\n",
              "      <th>12</th>\n",
              "      <td>20192Q</td>\n",
              "      <td>201904</td>\n",
              "      <td>서비스</td>\n",
              "      <td>배달서비스</td>\n",
              "      <td>09시-15시</td>\n",
              "      <td>8593612000</td>\n",
              "      <td>441558</td>\n",
              "      <td>19462</td>\n",
              "    </tr>\n",
              "    <tr>\n",
              "      <th>13</th>\n",
              "      <td>20192Q</td>\n",
              "      <td>201904</td>\n",
              "      <td>서비스</td>\n",
              "      <td>배달서비스</td>\n",
              "      <td>15시-18시</td>\n",
              "      <td>10732486000</td>\n",
              "      <td>526174</td>\n",
              "      <td>20397</td>\n",
              "    </tr>\n",
              "    <tr>\n",
              "      <th>14</th>\n",
              "      <td>20192Q</td>\n",
              "      <td>201904</td>\n",
              "      <td>서비스</td>\n",
              "      <td>배달서비스</td>\n",
              "      <td>18시-21시</td>\n",
              "      <td>22964320000</td>\n",
              "      <td>1088717</td>\n",
              "      <td>21093</td>\n",
              "    </tr>\n",
              "    <tr>\n",
              "      <th>15</th>\n",
              "      <td>20192Q</td>\n",
              "      <td>201904</td>\n",
              "      <td>서비스</td>\n",
              "      <td>배달서비스</td>\n",
              "      <td>21시-24시</td>\n",
              "      <td>10005403000</td>\n",
              "      <td>469362</td>\n",
              "      <td>21317</td>\n",
              "    </tr>\n",
              "  </tbody>\n",
              "</table>\n",
              "</div>"
            ],
            "text/plain": [
              "        기간    기준년월     업종   상세업종       시간         매출금액     매출건수  건당매출금액\n",
              "8   20192Q  201904   서비스   배달서비스  00시-03시   2003130000    91878   21802\n",
              "9   20192Q  201904   서비스   배달서비스  03시-06시    359864000    16920   21269\n",
              "10  20192Q  201904   서비스   배달서비스  06시-09시    244046000    12375   19721\n",
              "11  20192Q  201904   서비스   배달서비스  09시-12시   4276010000   219854   19449\n",
              "12  20192Q  201904   서비스   배달서비스  09시-15시   8593612000   441558   19462\n",
              "13  20192Q  201904   서비스   배달서비스  15시-18시  10732486000   526174   20397\n",
              "14  20192Q  201904   서비스   배달서비스  18시-21시  22964320000  1088717   21093\n",
              "15  20192Q  201904   서비스   배달서비스  21시-24시  10005403000   469362   21317"
            ]
          },
          "metadata": {},
          "execution_count": 167
        }
      ]
    },
    {
      "cell_type": "code",
      "metadata": {
        "colab": {
          "base_uri": "https://localhost:8080/",
          "height": 295
        },
        "id": "x_HDyfo36fud",
        "outputId": "3e7f847f-8a2a-4c81-89c9-1111e8cbb4dd"
      },
      "source": [
        "data_배달서비스_20= data_서비스_20['상세업종']=='배달서비스'\n",
        "data_배달서비스_20 = data_서비스_20[data_배달서비스_20]\n",
        "data_배달서비스_20"
      ],
      "execution_count": null,
      "outputs": [
        {
          "output_type": "execute_result",
          "data": {
            "text/html": [
              "<div>\n",
              "<style scoped>\n",
              "    .dataframe tbody tr th:only-of-type {\n",
              "        vertical-align: middle;\n",
              "    }\n",
              "\n",
              "    .dataframe tbody tr th {\n",
              "        vertical-align: top;\n",
              "    }\n",
              "\n",
              "    .dataframe thead th {\n",
              "        text-align: right;\n",
              "    }\n",
              "</style>\n",
              "<table border=\"1\" class=\"dataframe\">\n",
              "  <thead>\n",
              "    <tr style=\"text-align: right;\">\n",
              "      <th></th>\n",
              "      <th>기간</th>\n",
              "      <th>기준년월</th>\n",
              "      <th>업종</th>\n",
              "      <th>상세업종</th>\n",
              "      <th>시간</th>\n",
              "      <th>매출금액</th>\n",
              "      <th>매출건수</th>\n",
              "      <th>건당매출금액</th>\n",
              "    </tr>\n",
              "  </thead>\n",
              "  <tbody>\n",
              "    <tr>\n",
              "      <th>8</th>\n",
              "      <td>20202Q</td>\n",
              "      <td>202004</td>\n",
              "      <td>서비스</td>\n",
              "      <td>배달서비스</td>\n",
              "      <td>00시-03시</td>\n",
              "      <td>2881068000</td>\n",
              "      <td>131435</td>\n",
              "      <td>21920</td>\n",
              "    </tr>\n",
              "    <tr>\n",
              "      <th>9</th>\n",
              "      <td>20202Q</td>\n",
              "      <td>202004</td>\n",
              "      <td>서비스</td>\n",
              "      <td>배달서비스</td>\n",
              "      <td>03시-06시</td>\n",
              "      <td>560187000</td>\n",
              "      <td>25918</td>\n",
              "      <td>21614</td>\n",
              "    </tr>\n",
              "    <tr>\n",
              "      <th>10</th>\n",
              "      <td>20202Q</td>\n",
              "      <td>202004</td>\n",
              "      <td>서비스</td>\n",
              "      <td>배달서비스</td>\n",
              "      <td>06시-09시</td>\n",
              "      <td>512083000</td>\n",
              "      <td>26141</td>\n",
              "      <td>19589</td>\n",
              "    </tr>\n",
              "    <tr>\n",
              "      <th>11</th>\n",
              "      <td>20202Q</td>\n",
              "      <td>202004</td>\n",
              "      <td>서비스</td>\n",
              "      <td>배달서비스</td>\n",
              "      <td>09시-12시</td>\n",
              "      <td>9985664000</td>\n",
              "      <td>504003</td>\n",
              "      <td>19813</td>\n",
              "    </tr>\n",
              "    <tr>\n",
              "      <th>12</th>\n",
              "      <td>20202Q</td>\n",
              "      <td>202004</td>\n",
              "      <td>서비스</td>\n",
              "      <td>배달서비스</td>\n",
              "      <td>09시-15시</td>\n",
              "      <td>17431447000</td>\n",
              "      <td>868281</td>\n",
              "      <td>20076</td>\n",
              "    </tr>\n",
              "    <tr>\n",
              "      <th>13</th>\n",
              "      <td>20202Q</td>\n",
              "      <td>202004</td>\n",
              "      <td>서비스</td>\n",
              "      <td>배달서비스</td>\n",
              "      <td>15시-18시</td>\n",
              "      <td>19887704000</td>\n",
              "      <td>896628</td>\n",
              "      <td>22181</td>\n",
              "    </tr>\n",
              "    <tr>\n",
              "      <th>14</th>\n",
              "      <td>20202Q</td>\n",
              "      <td>202004</td>\n",
              "      <td>서비스</td>\n",
              "      <td>배달서비스</td>\n",
              "      <td>18시-21시</td>\n",
              "      <td>39425279000</td>\n",
              "      <td>1720584</td>\n",
              "      <td>22914</td>\n",
              "    </tr>\n",
              "    <tr>\n",
              "      <th>15</th>\n",
              "      <td>20202Q</td>\n",
              "      <td>202004</td>\n",
              "      <td>서비스</td>\n",
              "      <td>배달서비스</td>\n",
              "      <td>21시-24시</td>\n",
              "      <td>14693356000</td>\n",
              "      <td>671311</td>\n",
              "      <td>21888</td>\n",
              "    </tr>\n",
              "  </tbody>\n",
              "</table>\n",
              "</div>"
            ],
            "text/plain": [
              "        기간    기준년월   업종   상세업종       시간         매출금액     매출건수  건당매출금액\n",
              "8   20202Q  202004  서비스  배달서비스  00시-03시   2881068000   131435   21920\n",
              "9   20202Q  202004  서비스  배달서비스  03시-06시    560187000    25918   21614\n",
              "10  20202Q  202004  서비스  배달서비스  06시-09시    512083000    26141   19589\n",
              "11  20202Q  202004  서비스  배달서비스  09시-12시   9985664000   504003   19813\n",
              "12  20202Q  202004  서비스  배달서비스  09시-15시  17431447000   868281   20076\n",
              "13  20202Q  202004  서비스  배달서비스  15시-18시  19887704000   896628   22181\n",
              "14  20202Q  202004  서비스  배달서비스  18시-21시  39425279000  1720584   22914\n",
              "15  20202Q  202004  서비스  배달서비스  21시-24시  14693356000   671311   21888"
            ]
          },
          "metadata": {},
          "execution_count": 168
        }
      ]
    },
    {
      "cell_type": "code",
      "metadata": {
        "colab": {
          "base_uri": "https://localhost:8080/",
          "height": 295
        },
        "id": "CI3ZpmQm6f12",
        "outputId": "a38ebf76-eff8-4fec-95b4-6623b82fe486"
      },
      "source": [
        "# 코로나 이후 거래가 늘어난 업종 (대형이커머스)\n",
        "data_대형이커머스_19 = data_유통_19['상세업종']=='대형이커머스'\n",
        "data_대형이커머스_19 = data_유통_19[data_대형이커머스_19]\n",
        "data_대형이커머스_19"
      ],
      "execution_count": null,
      "outputs": [
        {
          "output_type": "execute_result",
          "data": {
            "text/html": [
              "<div>\n",
              "<style scoped>\n",
              "    .dataframe tbody tr th:only-of-type {\n",
              "        vertical-align: middle;\n",
              "    }\n",
              "\n",
              "    .dataframe tbody tr th {\n",
              "        vertical-align: top;\n",
              "    }\n",
              "\n",
              "    .dataframe thead th {\n",
              "        text-align: right;\n",
              "    }\n",
              "</style>\n",
              "<table border=\"1\" class=\"dataframe\">\n",
              "  <thead>\n",
              "    <tr style=\"text-align: right;\">\n",
              "      <th></th>\n",
              "      <th>기간</th>\n",
              "      <th>기준년월</th>\n",
              "      <th>업종</th>\n",
              "      <th>상세업종</th>\n",
              "      <th>시간</th>\n",
              "      <th>매출금액</th>\n",
              "      <th>매출건수</th>\n",
              "      <th>건당매출금액</th>\n",
              "    </tr>\n",
              "  </thead>\n",
              "  <tbody>\n",
              "    <tr>\n",
              "      <th>0</th>\n",
              "      <td>20192Q</td>\n",
              "      <td>201904</td>\n",
              "      <td>유통</td>\n",
              "      <td>대형이커머스</td>\n",
              "      <td>00시-03시</td>\n",
              "      <td>67835110000</td>\n",
              "      <td>1460791</td>\n",
              "      <td>46437</td>\n",
              "    </tr>\n",
              "    <tr>\n",
              "      <th>1</th>\n",
              "      <td>20192Q</td>\n",
              "      <td>201904</td>\n",
              "      <td>유통</td>\n",
              "      <td>대형이커머스</td>\n",
              "      <td>03시-06시</td>\n",
              "      <td>16756200000</td>\n",
              "      <td>359502</td>\n",
              "      <td>46609</td>\n",
              "    </tr>\n",
              "    <tr>\n",
              "      <th>2</th>\n",
              "      <td>20192Q</td>\n",
              "      <td>201904</td>\n",
              "      <td>유통</td>\n",
              "      <td>대형이커머스</td>\n",
              "      <td>06시-09시</td>\n",
              "      <td>50656932000</td>\n",
              "      <td>1156789</td>\n",
              "      <td>43791</td>\n",
              "    </tr>\n",
              "    <tr>\n",
              "      <th>3</th>\n",
              "      <td>20192Q</td>\n",
              "      <td>201904</td>\n",
              "      <td>유통</td>\n",
              "      <td>대형이커머스</td>\n",
              "      <td>09시-12시</td>\n",
              "      <td>146793974000</td>\n",
              "      <td>2614552</td>\n",
              "      <td>56145</td>\n",
              "    </tr>\n",
              "    <tr>\n",
              "      <th>4</th>\n",
              "      <td>20192Q</td>\n",
              "      <td>201904</td>\n",
              "      <td>유통</td>\n",
              "      <td>대형이커머스</td>\n",
              "      <td>09시-15시</td>\n",
              "      <td>152581168000</td>\n",
              "      <td>2609486</td>\n",
              "      <td>58472</td>\n",
              "    </tr>\n",
              "    <tr>\n",
              "      <th>5</th>\n",
              "      <td>20192Q</td>\n",
              "      <td>201904</td>\n",
              "      <td>유통</td>\n",
              "      <td>대형이커머스</td>\n",
              "      <td>15시-18시</td>\n",
              "      <td>152290067000</td>\n",
              "      <td>2691466</td>\n",
              "      <td>56583</td>\n",
              "    </tr>\n",
              "    <tr>\n",
              "      <th>6</th>\n",
              "      <td>20192Q</td>\n",
              "      <td>201904</td>\n",
              "      <td>유통</td>\n",
              "      <td>대형이커머스</td>\n",
              "      <td>18시-21시</td>\n",
              "      <td>127300822000</td>\n",
              "      <td>2570837</td>\n",
              "      <td>49517</td>\n",
              "    </tr>\n",
              "    <tr>\n",
              "      <th>7</th>\n",
              "      <td>20192Q</td>\n",
              "      <td>201904</td>\n",
              "      <td>유통</td>\n",
              "      <td>대형이커머스</td>\n",
              "      <td>21시-24시</td>\n",
              "      <td>172747162000</td>\n",
              "      <td>3521729</td>\n",
              "      <td>49052</td>\n",
              "    </tr>\n",
              "  </tbody>\n",
              "</table>\n",
              "</div>"
            ],
            "text/plain": [
              "       기간    기준년월    업종    상세업종       시간          매출금액     매출건수  건당매출금액\n",
              "0  20192Q  201904   유통   대형이커머스  00시-03시   67835110000  1460791   46437\n",
              "1  20192Q  201904   유통   대형이커머스  03시-06시   16756200000   359502   46609\n",
              "2  20192Q  201904   유통   대형이커머스  06시-09시   50656932000  1156789   43791\n",
              "3  20192Q  201904   유통   대형이커머스  09시-12시  146793974000  2614552   56145\n",
              "4  20192Q  201904   유통   대형이커머스  09시-15시  152581168000  2609486   58472\n",
              "5  20192Q  201904   유통   대형이커머스  15시-18시  152290067000  2691466   56583\n",
              "6  20192Q  201904   유통   대형이커머스  18시-21시  127300822000  2570837   49517\n",
              "7  20192Q  201904   유통   대형이커머스  21시-24시  172747162000  3521729   49052"
            ]
          },
          "metadata": {},
          "execution_count": 173
        }
      ]
    },
    {
      "cell_type": "code",
      "metadata": {
        "colab": {
          "base_uri": "https://localhost:8080/",
          "height": 295
        },
        "id": "TXjITit46f6Y",
        "outputId": "18588297-b5b8-4552-f92c-96b0d51eb778"
      },
      "source": [
        "data_대형이커머스_20 = data_유통_20['상세업종']=='대형이커머스'\n",
        "data_대형이커머스_20 = data_유통_20[data_대형이커머스_20]\n",
        "data_대형이커머스_20"
      ],
      "execution_count": null,
      "outputs": [
        {
          "output_type": "execute_result",
          "data": {
            "text/html": [
              "<div>\n",
              "<style scoped>\n",
              "    .dataframe tbody tr th:only-of-type {\n",
              "        vertical-align: middle;\n",
              "    }\n",
              "\n",
              "    .dataframe tbody tr th {\n",
              "        vertical-align: top;\n",
              "    }\n",
              "\n",
              "    .dataframe thead th {\n",
              "        text-align: right;\n",
              "    }\n",
              "</style>\n",
              "<table border=\"1\" class=\"dataframe\">\n",
              "  <thead>\n",
              "    <tr style=\"text-align: right;\">\n",
              "      <th></th>\n",
              "      <th>기간</th>\n",
              "      <th>기준년월</th>\n",
              "      <th>업종</th>\n",
              "      <th>상세업종</th>\n",
              "      <th>시간</th>\n",
              "      <th>매출금액</th>\n",
              "      <th>매출건수</th>\n",
              "      <th>건당매출금액</th>\n",
              "    </tr>\n",
              "  </thead>\n",
              "  <tbody>\n",
              "    <tr>\n",
              "      <th>8</th>\n",
              "      <td>20202Q</td>\n",
              "      <td>202004</td>\n",
              "      <td>유통</td>\n",
              "      <td>대형이커머스</td>\n",
              "      <td>00시-03시</td>\n",
              "      <td>84417428000</td>\n",
              "      <td>1914209</td>\n",
              "      <td>44100</td>\n",
              "    </tr>\n",
              "    <tr>\n",
              "      <th>9</th>\n",
              "      <td>20202Q</td>\n",
              "      <td>202004</td>\n",
              "      <td>유통</td>\n",
              "      <td>대형이커머스</td>\n",
              "      <td>03시-06시</td>\n",
              "      <td>21831849000</td>\n",
              "      <td>493359</td>\n",
              "      <td>44251</td>\n",
              "    </tr>\n",
              "    <tr>\n",
              "      <th>10</th>\n",
              "      <td>20202Q</td>\n",
              "      <td>202004</td>\n",
              "      <td>유통</td>\n",
              "      <td>대형이커머스</td>\n",
              "      <td>06시-09시</td>\n",
              "      <td>59554189000</td>\n",
              "      <td>1351220</td>\n",
              "      <td>44074</td>\n",
              "    </tr>\n",
              "    <tr>\n",
              "      <th>11</th>\n",
              "      <td>20202Q</td>\n",
              "      <td>202004</td>\n",
              "      <td>유통</td>\n",
              "      <td>대형이커머스</td>\n",
              "      <td>09시-12시</td>\n",
              "      <td>180460214000</td>\n",
              "      <td>3573735</td>\n",
              "      <td>50496</td>\n",
              "    </tr>\n",
              "    <tr>\n",
              "      <th>12</th>\n",
              "      <td>20202Q</td>\n",
              "      <td>202004</td>\n",
              "      <td>유통</td>\n",
              "      <td>대형이커머스</td>\n",
              "      <td>09시-15시</td>\n",
              "      <td>194409659000</td>\n",
              "      <td>3659945</td>\n",
              "      <td>53118</td>\n",
              "    </tr>\n",
              "    <tr>\n",
              "      <th>13</th>\n",
              "      <td>20202Q</td>\n",
              "      <td>202004</td>\n",
              "      <td>유통</td>\n",
              "      <td>대형이커머스</td>\n",
              "      <td>15시-18시</td>\n",
              "      <td>186270000000</td>\n",
              "      <td>3575557</td>\n",
              "      <td>52095</td>\n",
              "    </tr>\n",
              "    <tr>\n",
              "      <th>14</th>\n",
              "      <td>20202Q</td>\n",
              "      <td>202004</td>\n",
              "      <td>유통</td>\n",
              "      <td>대형이커머스</td>\n",
              "      <td>18시-21시</td>\n",
              "      <td>170481760000</td>\n",
              "      <td>3575147</td>\n",
              "      <td>47685</td>\n",
              "    </tr>\n",
              "    <tr>\n",
              "      <th>15</th>\n",
              "      <td>20202Q</td>\n",
              "      <td>202004</td>\n",
              "      <td>유통</td>\n",
              "      <td>대형이커머스</td>\n",
              "      <td>21시-24시</td>\n",
              "      <td>204030037000</td>\n",
              "      <td>4375967</td>\n",
              "      <td>46625</td>\n",
              "    </tr>\n",
              "  </tbody>\n",
              "</table>\n",
              "</div>"
            ],
            "text/plain": [
              "        기간    기준년월  업종    상세업종       시간          매출금액     매출건수  건당매출금액\n",
              "8   20202Q  202004  유통  대형이커머스  00시-03시   84417428000  1914209   44100\n",
              "9   20202Q  202004  유통  대형이커머스  03시-06시   21831849000   493359   44251\n",
              "10  20202Q  202004  유통  대형이커머스  06시-09시   59554189000  1351220   44074\n",
              "11  20202Q  202004  유통  대형이커머스  09시-12시  180460214000  3573735   50496\n",
              "12  20202Q  202004  유통  대형이커머스  09시-15시  194409659000  3659945   53118\n",
              "13  20202Q  202004  유통  대형이커머스  15시-18시  186270000000  3575557   52095\n",
              "14  20202Q  202004  유통  대형이커머스  18시-21시  170481760000  3575147   47685\n",
              "15  20202Q  202004  유통  대형이커머스  21시-24시  204030037000  4375967   46625"
            ]
          },
          "metadata": {},
          "execution_count": 174
        }
      ]
    },
    {
      "cell_type": "code",
      "metadata": {
        "id": "jH8Q4oks6gFx"
      },
      "source": [
        ""
      ],
      "execution_count": null,
      "outputs": []
    },
    {
      "cell_type": "markdown",
      "metadata": {
        "id": "uXZbZMyAPttn"
      },
      "source": [
        "# 3. 데이터 전처리\n"
      ]
    },
    {
      "cell_type": "code",
      "metadata": {
        "id": "6uOZ5dIocJQR"
      },
      "source": [
        "# 결측값 확인"
      ],
      "execution_count": null,
      "outputs": []
    },
    {
      "cell_type": "code",
      "metadata": {
        "colab": {
          "base_uri": "https://localhost:8080/"
        },
        "id": "6tNqn76qN6US",
        "outputId": "bfce0a93-7c4b-4921-8f95-6348b467d992"
      },
      "source": [
        "data_기타_19.isnull().sum()\n",
        "data_기타_19.info()"
      ],
      "execution_count": null,
      "outputs": [
        {
          "output_type": "stream",
          "text": [
            "<class 'pandas.core.frame.DataFrame'>\n",
            "RangeIndex: 32 entries, 0 to 31\n",
            "Data columns (total 8 columns):\n",
            " #   Column  Non-Null Count  Dtype \n",
            "---  ------  --------------  ----- \n",
            " 0   기간      32 non-null     object\n",
            " 1   기준년월    32 non-null     int64 \n",
            " 2   업종      32 non-null     object\n",
            " 3   상세업종    32 non-null     object\n",
            " 4   시간      32 non-null     object\n",
            " 5   매출금액    32 non-null     int64 \n",
            " 6   매출건수    32 non-null     int64 \n",
            " 7   건당매출금액  32 non-null     int64 \n",
            "dtypes: int64(4), object(4)\n",
            "memory usage: 2.1+ KB\n"
          ],
          "name": "stdout"
        }
      ]
    },
    {
      "cell_type": "code",
      "metadata": {
        "colab": {
          "base_uri": "https://localhost:8080/"
        },
        "id": "_Peyt625P_95",
        "outputId": "7bcf0189-d200-4933-9953-4823709cc678"
      },
      "source": [
        "data_기타_20.isnull().sum()\n",
        "data_기타_20.info()"
      ],
      "execution_count": null,
      "outputs": [
        {
          "output_type": "stream",
          "text": [
            "<class 'pandas.core.frame.DataFrame'>\n",
            "RangeIndex: 32 entries, 0 to 31\n",
            "Data columns (total 8 columns):\n",
            " #   Column  Non-Null Count  Dtype \n",
            "---  ------  --------------  ----- \n",
            " 0   기간      32 non-null     object\n",
            " 1   기준년월    32 non-null     int64 \n",
            " 2   업종      32 non-null     object\n",
            " 3   상세업종    32 non-null     object\n",
            " 4   시간      32 non-null     object\n",
            " 5   매출금액    32 non-null     int64 \n",
            " 6   매출건수    32 non-null     int64 \n",
            " 7   건당매출금액  32 non-null     int64 \n",
            "dtypes: int64(4), object(4)\n",
            "memory usage: 2.1+ KB\n"
          ],
          "name": "stdout"
        }
      ]
    },
    {
      "cell_type": "code",
      "metadata": {
        "id": "qbzeRQ2lQK41",
        "colab": {
          "base_uri": "https://localhost:8080/"
        },
        "outputId": "b60f62c8-4235-4fe0-f4e4-e2a9b96360af"
      },
      "source": [
        "data_서비스_19.isnull().sum()\n",
        "data_서비스_19.info()"
      ],
      "execution_count": null,
      "outputs": [
        {
          "output_type": "stream",
          "text": [
            "<class 'pandas.core.frame.DataFrame'>\n",
            "RangeIndex: 72 entries, 0 to 71\n",
            "Data columns (total 8 columns):\n",
            " #   Column  Non-Null Count  Dtype \n",
            "---  ------  --------------  ----- \n",
            " 0   기간      72 non-null     object\n",
            " 1   기준년월    72 non-null     int64 \n",
            " 2   업종      72 non-null     object\n",
            " 3   상세업종    72 non-null     object\n",
            " 4   시간      72 non-null     object\n",
            " 5   매출금액    72 non-null     int64 \n",
            " 6   매출건수    72 non-null     int64 \n",
            " 7   건당매출금액  72 non-null     int64 \n",
            "dtypes: int64(4), object(4)\n",
            "memory usage: 4.6+ KB\n"
          ],
          "name": "stdout"
        }
      ]
    },
    {
      "cell_type": "code",
      "metadata": {
        "id": "QLLhug04QLCs",
        "colab": {
          "base_uri": "https://localhost:8080/"
        },
        "outputId": "1e5f2906-f589-40fc-aa24-cb78c51f3991"
      },
      "source": [
        "data_서비스_20.isnull().sum()\n",
        "data_서비스_20.info()\n"
      ],
      "execution_count": null,
      "outputs": [
        {
          "output_type": "stream",
          "text": [
            "<class 'pandas.core.frame.DataFrame'>\n",
            "RangeIndex: 72 entries, 0 to 71\n",
            "Data columns (total 8 columns):\n",
            " #   Column  Non-Null Count  Dtype \n",
            "---  ------  --------------  ----- \n",
            " 0   기간      72 non-null     object\n",
            " 1   기준년월    72 non-null     int64 \n",
            " 2   업종      72 non-null     object\n",
            " 3   상세업종    72 non-null     object\n",
            " 4   시간      72 non-null     object\n",
            " 5   매출금액    72 non-null     int64 \n",
            " 6   매출건수    72 non-null     int64 \n",
            " 7   건당매출금액  72 non-null     int64 \n",
            "dtypes: int64(4), object(4)\n",
            "memory usage: 4.6+ KB\n"
          ],
          "name": "stdout"
        }
      ]
    },
    {
      "cell_type": "code",
      "metadata": {
        "id": "BB_rQ6HKggXj",
        "colab": {
          "base_uri": "https://localhost:8080/"
        },
        "outputId": "8624840e-3933-4390-c29d-f17aee6d53ca"
      },
      "source": [
        "data_유통_19.isnull().sum()\n",
        "data_유통_19.info()\n"
      ],
      "execution_count": null,
      "outputs": [
        {
          "output_type": "stream",
          "text": [
            "<class 'pandas.core.frame.DataFrame'>\n",
            "RangeIndex: 40 entries, 0 to 39\n",
            "Data columns (total 8 columns):\n",
            " #   Column  Non-Null Count  Dtype \n",
            "---  ------  --------------  ----- \n",
            " 0   기간      40 non-null     object\n",
            " 1   기준년월    40 non-null     int64 \n",
            " 2   업종      40 non-null     object\n",
            " 3   상세업종    40 non-null     object\n",
            " 4   시간      40 non-null     object\n",
            " 5   매출금액    40 non-null     int64 \n",
            " 6   매출건수    40 non-null     int64 \n",
            " 7   건당매출금액  40 non-null     int64 \n",
            "dtypes: int64(4), object(4)\n",
            "memory usage: 2.6+ KB\n"
          ],
          "name": "stdout"
        }
      ]
    },
    {
      "cell_type": "code",
      "metadata": {
        "colab": {
          "base_uri": "https://localhost:8080/"
        },
        "id": "NdCj61s9u3Ly",
        "outputId": "265375a8-9c35-4175-f38e-f6cd54ab969d"
      },
      "source": [
        "data_유통_20.isnull().sum()\n",
        "data_유통_20.info()"
      ],
      "execution_count": null,
      "outputs": [
        {
          "output_type": "stream",
          "text": [
            "<class 'pandas.core.frame.DataFrame'>\n",
            "RangeIndex: 40 entries, 0 to 39\n",
            "Data columns (total 8 columns):\n",
            " #   Column  Non-Null Count  Dtype \n",
            "---  ------  --------------  ----- \n",
            " 0   기간      40 non-null     object\n",
            " 1   기준년월    40 non-null     int64 \n",
            " 2   업종      40 non-null     object\n",
            " 3   상세업종    40 non-null     object\n",
            " 4   시간      40 non-null     object\n",
            " 5   매출금액    40 non-null     int64 \n",
            " 6   매출건수    40 non-null     int64 \n",
            " 7   건당매출금액  40 non-null     int64 \n",
            "dtypes: int64(4), object(4)\n",
            "memory usage: 2.6+ KB\n"
          ],
          "name": "stdout"
        }
      ]
    },
    {
      "cell_type": "code",
      "metadata": {
        "colab": {
          "base_uri": "https://localhost:8080/",
          "height": 511
        },
        "id": "OVWM3ZRiu3O4",
        "outputId": "46aa7f90-862a-46a9-983f-1450f2b4fb98"
      },
      "source": [
        "#관광레저 concat\n",
        "data_관광_레져=pd.concat([data_관광_레져_19,data_관광_레져_20])\n",
        "\n",
        "# row 생략 없이 출력\n",
        "pd.set_option('display.max_rows', None)\n",
        "# col 생략 없이 출력\n",
        "pd.set_option('display.max_columns', None)\n",
        "data_관광_레져"
      ],
      "execution_count": null,
      "outputs": [
        {
          "output_type": "execute_result",
          "data": {
            "text/html": [
              "<div>\n",
              "<style scoped>\n",
              "    .dataframe tbody tr th:only-of-type {\n",
              "        vertical-align: middle;\n",
              "    }\n",
              "\n",
              "    .dataframe tbody tr th {\n",
              "        vertical-align: top;\n",
              "    }\n",
              "\n",
              "    .dataframe thead th {\n",
              "        text-align: right;\n",
              "    }\n",
              "</style>\n",
              "<table border=\"1\" class=\"dataframe\">\n",
              "  <thead>\n",
              "    <tr style=\"text-align: right;\">\n",
              "      <th></th>\n",
              "      <th>기간</th>\n",
              "      <th>기준년월</th>\n",
              "      <th>업종</th>\n",
              "      <th>상세업종</th>\n",
              "      <th>시간</th>\n",
              "      <th>매출금액</th>\n",
              "      <th>매출건수</th>\n",
              "      <th>건당매출금액</th>\n",
              "    </tr>\n",
              "  </thead>\n",
              "  <tbody>\n",
              "    <tr>\n",
              "      <th>0</th>\n",
              "      <td>20192Q</td>\n",
              "      <td>201904</td>\n",
              "      <td>서비스</td>\n",
              "      <td>관광/레져</td>\n",
              "      <td>00시-03시</td>\n",
              "      <td>4390532000</td>\n",
              "      <td>92077</td>\n",
              "      <td>47683</td>\n",
              "    </tr>\n",
              "    <tr>\n",
              "      <th>1</th>\n",
              "      <td>20192Q</td>\n",
              "      <td>201904</td>\n",
              "      <td>서비스</td>\n",
              "      <td>관광/레져</td>\n",
              "      <td>03시-06시</td>\n",
              "      <td>1053376000</td>\n",
              "      <td>23793</td>\n",
              "      <td>44273</td>\n",
              "    </tr>\n",
              "    <tr>\n",
              "      <th>2</th>\n",
              "      <td>20192Q</td>\n",
              "      <td>201904</td>\n",
              "      <td>서비스</td>\n",
              "      <td>관광/레져</td>\n",
              "      <td>06시-09시</td>\n",
              "      <td>2370602000</td>\n",
              "      <td>39395</td>\n",
              "      <td>60175</td>\n",
              "    </tr>\n",
              "    <tr>\n",
              "      <th>3</th>\n",
              "      <td>20192Q</td>\n",
              "      <td>201904</td>\n",
              "      <td>서비스</td>\n",
              "      <td>관광/레져</td>\n",
              "      <td>09시-12시</td>\n",
              "      <td>16541349000</td>\n",
              "      <td>123125</td>\n",
              "      <td>134346</td>\n",
              "    </tr>\n",
              "    <tr>\n",
              "      <th>4</th>\n",
              "      <td>20192Q</td>\n",
              "      <td>201904</td>\n",
              "      <td>서비스</td>\n",
              "      <td>관광/레져</td>\n",
              "      <td>09시-15시</td>\n",
              "      <td>15953366000</td>\n",
              "      <td>138086</td>\n",
              "      <td>115532</td>\n",
              "    </tr>\n",
              "    <tr>\n",
              "      <th>5</th>\n",
              "      <td>20192Q</td>\n",
              "      <td>201904</td>\n",
              "      <td>서비스</td>\n",
              "      <td>관광/레져</td>\n",
              "      <td>15시-18시</td>\n",
              "      <td>16964889000</td>\n",
              "      <td>142957</td>\n",
              "      <td>118671</td>\n",
              "    </tr>\n",
              "    <tr>\n",
              "      <th>6</th>\n",
              "      <td>20192Q</td>\n",
              "      <td>201904</td>\n",
              "      <td>서비스</td>\n",
              "      <td>관광/레져</td>\n",
              "      <td>18시-21시</td>\n",
              "      <td>10736590000</td>\n",
              "      <td>163694</td>\n",
              "      <td>65589</td>\n",
              "    </tr>\n",
              "    <tr>\n",
              "      <th>7</th>\n",
              "      <td>20192Q</td>\n",
              "      <td>201904</td>\n",
              "      <td>서비스</td>\n",
              "      <td>관광/레져</td>\n",
              "      <td>21시-24시</td>\n",
              "      <td>10177494000</td>\n",
              "      <td>178992</td>\n",
              "      <td>56860</td>\n",
              "    </tr>\n",
              "    <tr>\n",
              "      <th>1</th>\n",
              "      <td>20202Q</td>\n",
              "      <td>202004</td>\n",
              "      <td>서비스</td>\n",
              "      <td>관광/레져</td>\n",
              "      <td>03시-06시</td>\n",
              "      <td>1208265000</td>\n",
              "      <td>28875</td>\n",
              "      <td>41845</td>\n",
              "    </tr>\n",
              "    <tr>\n",
              "      <th>2</th>\n",
              "      <td>20202Q</td>\n",
              "      <td>202004</td>\n",
              "      <td>서비스</td>\n",
              "      <td>관광/레져</td>\n",
              "      <td>06시-09시</td>\n",
              "      <td>2025094000</td>\n",
              "      <td>32284</td>\n",
              "      <td>62727</td>\n",
              "    </tr>\n",
              "    <tr>\n",
              "      <th>3</th>\n",
              "      <td>20202Q</td>\n",
              "      <td>202004</td>\n",
              "      <td>서비스</td>\n",
              "      <td>관광/레져</td>\n",
              "      <td>09시-12시</td>\n",
              "      <td>6209005000</td>\n",
              "      <td>89443</td>\n",
              "      <td>69419</td>\n",
              "    </tr>\n",
              "    <tr>\n",
              "      <th>4</th>\n",
              "      <td>20202Q</td>\n",
              "      <td>202004</td>\n",
              "      <td>서비스</td>\n",
              "      <td>관광/레져</td>\n",
              "      <td>09시-15시</td>\n",
              "      <td>6829755000</td>\n",
              "      <td>112759</td>\n",
              "      <td>60569</td>\n",
              "    </tr>\n",
              "    <tr>\n",
              "      <th>5</th>\n",
              "      <td>20202Q</td>\n",
              "      <td>202004</td>\n",
              "      <td>서비스</td>\n",
              "      <td>관광/레져</td>\n",
              "      <td>15시-18시</td>\n",
              "      <td>6643612000</td>\n",
              "      <td>117187</td>\n",
              "      <td>56692</td>\n",
              "    </tr>\n",
              "    <tr>\n",
              "      <th>6</th>\n",
              "      <td>20202Q</td>\n",
              "      <td>202004</td>\n",
              "      <td>서비스</td>\n",
              "      <td>관광/레져</td>\n",
              "      <td>18시-21시</td>\n",
              "      <td>7140215000</td>\n",
              "      <td>137463</td>\n",
              "      <td>51943</td>\n",
              "    </tr>\n",
              "    <tr>\n",
              "      <th>7</th>\n",
              "      <td>20202Q</td>\n",
              "      <td>202004</td>\n",
              "      <td>서비스</td>\n",
              "      <td>관광/레져</td>\n",
              "      <td>21시-24시</td>\n",
              "      <td>7813033000</td>\n",
              "      <td>159966</td>\n",
              "      <td>48842</td>\n",
              "    </tr>\n",
              "  </tbody>\n",
              "</table>\n",
              "</div>"
            ],
            "text/plain": [
              "       기간    기준년월     업종   상세업종       시간         매출금액    매출건수  건당매출금액\n",
              "0  20192Q  201904   서비스   관광/레져  00시-03시   4390532000   92077   47683\n",
              "1  20192Q  201904   서비스   관광/레져  03시-06시   1053376000   23793   44273\n",
              "2  20192Q  201904   서비스   관광/레져  06시-09시   2370602000   39395   60175\n",
              "3  20192Q  201904   서비스   관광/레져  09시-12시  16541349000  123125  134346\n",
              "4  20192Q  201904   서비스   관광/레져  09시-15시  15953366000  138086  115532\n",
              "5  20192Q  201904   서비스   관광/레져  15시-18시  16964889000  142957  118671\n",
              "6  20192Q  201904   서비스   관광/레져  18시-21시  10736590000  163694   65589\n",
              "7  20192Q  201904   서비스   관광/레져  21시-24시  10177494000  178992   56860\n",
              "1  20202Q  202004    서비스  관광/레져  03시-06시   1208265000   28875   41845\n",
              "2  20202Q  202004    서비스  관광/레져  06시-09시   2025094000   32284   62727\n",
              "3  20202Q  202004    서비스  관광/레져  09시-12시   6209005000   89443   69419\n",
              "4  20202Q  202004    서비스  관광/레져  09시-15시   6829755000  112759   60569\n",
              "5  20202Q  202004    서비스  관광/레져  15시-18시   6643612000  117187   56692\n",
              "6  20202Q  202004    서비스  관광/레져  18시-21시   7140215000  137463   51943\n",
              "7  20202Q  202004    서비스  관광/레져  21시-24시   7813033000  159966   48842"
            ]
          },
          "metadata": {},
          "execution_count": 169
        }
      ]
    },
    {
      "cell_type": "code",
      "metadata": {
        "colab": {
          "base_uri": "https://localhost:8080/",
          "height": 542
        },
        "id": "-bZpTNtD6xEp",
        "outputId": "8883083e-5b4e-48d7-b9a7-9d6a637fc998"
      },
      "source": [
        "#배달서비스 concat\n",
        "data_배달서비스=pd.concat([data_배달서비스_19,data_배달서비스_20])\n",
        "data_배달서비스"
      ],
      "execution_count": null,
      "outputs": [
        {
          "output_type": "execute_result",
          "data": {
            "text/html": [
              "<div>\n",
              "<style scoped>\n",
              "    .dataframe tbody tr th:only-of-type {\n",
              "        vertical-align: middle;\n",
              "    }\n",
              "\n",
              "    .dataframe tbody tr th {\n",
              "        vertical-align: top;\n",
              "    }\n",
              "\n",
              "    .dataframe thead th {\n",
              "        text-align: right;\n",
              "    }\n",
              "</style>\n",
              "<table border=\"1\" class=\"dataframe\">\n",
              "  <thead>\n",
              "    <tr style=\"text-align: right;\">\n",
              "      <th></th>\n",
              "      <th>기간</th>\n",
              "      <th>기준년월</th>\n",
              "      <th>업종</th>\n",
              "      <th>상세업종</th>\n",
              "      <th>시간</th>\n",
              "      <th>매출금액</th>\n",
              "      <th>매출건수</th>\n",
              "      <th>건당매출금액</th>\n",
              "    </tr>\n",
              "  </thead>\n",
              "  <tbody>\n",
              "    <tr>\n",
              "      <th>8</th>\n",
              "      <td>20192Q</td>\n",
              "      <td>201904</td>\n",
              "      <td>서비스</td>\n",
              "      <td>배달서비스</td>\n",
              "      <td>00시-03시</td>\n",
              "      <td>2003130000</td>\n",
              "      <td>91878</td>\n",
              "      <td>21802</td>\n",
              "    </tr>\n",
              "    <tr>\n",
              "      <th>9</th>\n",
              "      <td>20192Q</td>\n",
              "      <td>201904</td>\n",
              "      <td>서비스</td>\n",
              "      <td>배달서비스</td>\n",
              "      <td>03시-06시</td>\n",
              "      <td>359864000</td>\n",
              "      <td>16920</td>\n",
              "      <td>21269</td>\n",
              "    </tr>\n",
              "    <tr>\n",
              "      <th>10</th>\n",
              "      <td>20192Q</td>\n",
              "      <td>201904</td>\n",
              "      <td>서비스</td>\n",
              "      <td>배달서비스</td>\n",
              "      <td>06시-09시</td>\n",
              "      <td>244046000</td>\n",
              "      <td>12375</td>\n",
              "      <td>19721</td>\n",
              "    </tr>\n",
              "    <tr>\n",
              "      <th>11</th>\n",
              "      <td>20192Q</td>\n",
              "      <td>201904</td>\n",
              "      <td>서비스</td>\n",
              "      <td>배달서비스</td>\n",
              "      <td>09시-12시</td>\n",
              "      <td>4276010000</td>\n",
              "      <td>219854</td>\n",
              "      <td>19449</td>\n",
              "    </tr>\n",
              "    <tr>\n",
              "      <th>12</th>\n",
              "      <td>20192Q</td>\n",
              "      <td>201904</td>\n",
              "      <td>서비스</td>\n",
              "      <td>배달서비스</td>\n",
              "      <td>09시-15시</td>\n",
              "      <td>8593612000</td>\n",
              "      <td>441558</td>\n",
              "      <td>19462</td>\n",
              "    </tr>\n",
              "    <tr>\n",
              "      <th>13</th>\n",
              "      <td>20192Q</td>\n",
              "      <td>201904</td>\n",
              "      <td>서비스</td>\n",
              "      <td>배달서비스</td>\n",
              "      <td>15시-18시</td>\n",
              "      <td>10732486000</td>\n",
              "      <td>526174</td>\n",
              "      <td>20397</td>\n",
              "    </tr>\n",
              "    <tr>\n",
              "      <th>14</th>\n",
              "      <td>20192Q</td>\n",
              "      <td>201904</td>\n",
              "      <td>서비스</td>\n",
              "      <td>배달서비스</td>\n",
              "      <td>18시-21시</td>\n",
              "      <td>22964320000</td>\n",
              "      <td>1088717</td>\n",
              "      <td>21093</td>\n",
              "    </tr>\n",
              "    <tr>\n",
              "      <th>15</th>\n",
              "      <td>20192Q</td>\n",
              "      <td>201904</td>\n",
              "      <td>서비스</td>\n",
              "      <td>배달서비스</td>\n",
              "      <td>21시-24시</td>\n",
              "      <td>10005403000</td>\n",
              "      <td>469362</td>\n",
              "      <td>21317</td>\n",
              "    </tr>\n",
              "    <tr>\n",
              "      <th>8</th>\n",
              "      <td>20202Q</td>\n",
              "      <td>202004</td>\n",
              "      <td>서비스</td>\n",
              "      <td>배달서비스</td>\n",
              "      <td>00시-03시</td>\n",
              "      <td>2881068000</td>\n",
              "      <td>131435</td>\n",
              "      <td>21920</td>\n",
              "    </tr>\n",
              "    <tr>\n",
              "      <th>9</th>\n",
              "      <td>20202Q</td>\n",
              "      <td>202004</td>\n",
              "      <td>서비스</td>\n",
              "      <td>배달서비스</td>\n",
              "      <td>03시-06시</td>\n",
              "      <td>560187000</td>\n",
              "      <td>25918</td>\n",
              "      <td>21614</td>\n",
              "    </tr>\n",
              "    <tr>\n",
              "      <th>10</th>\n",
              "      <td>20202Q</td>\n",
              "      <td>202004</td>\n",
              "      <td>서비스</td>\n",
              "      <td>배달서비스</td>\n",
              "      <td>06시-09시</td>\n",
              "      <td>512083000</td>\n",
              "      <td>26141</td>\n",
              "      <td>19589</td>\n",
              "    </tr>\n",
              "    <tr>\n",
              "      <th>11</th>\n",
              "      <td>20202Q</td>\n",
              "      <td>202004</td>\n",
              "      <td>서비스</td>\n",
              "      <td>배달서비스</td>\n",
              "      <td>09시-12시</td>\n",
              "      <td>9985664000</td>\n",
              "      <td>504003</td>\n",
              "      <td>19813</td>\n",
              "    </tr>\n",
              "    <tr>\n",
              "      <th>12</th>\n",
              "      <td>20202Q</td>\n",
              "      <td>202004</td>\n",
              "      <td>서비스</td>\n",
              "      <td>배달서비스</td>\n",
              "      <td>09시-15시</td>\n",
              "      <td>17431447000</td>\n",
              "      <td>868281</td>\n",
              "      <td>20076</td>\n",
              "    </tr>\n",
              "    <tr>\n",
              "      <th>13</th>\n",
              "      <td>20202Q</td>\n",
              "      <td>202004</td>\n",
              "      <td>서비스</td>\n",
              "      <td>배달서비스</td>\n",
              "      <td>15시-18시</td>\n",
              "      <td>19887704000</td>\n",
              "      <td>896628</td>\n",
              "      <td>22181</td>\n",
              "    </tr>\n",
              "    <tr>\n",
              "      <th>14</th>\n",
              "      <td>20202Q</td>\n",
              "      <td>202004</td>\n",
              "      <td>서비스</td>\n",
              "      <td>배달서비스</td>\n",
              "      <td>18시-21시</td>\n",
              "      <td>39425279000</td>\n",
              "      <td>1720584</td>\n",
              "      <td>22914</td>\n",
              "    </tr>\n",
              "    <tr>\n",
              "      <th>15</th>\n",
              "      <td>20202Q</td>\n",
              "      <td>202004</td>\n",
              "      <td>서비스</td>\n",
              "      <td>배달서비스</td>\n",
              "      <td>21시-24시</td>\n",
              "      <td>14693356000</td>\n",
              "      <td>671311</td>\n",
              "      <td>21888</td>\n",
              "    </tr>\n",
              "  </tbody>\n",
              "</table>\n",
              "</div>"
            ],
            "text/plain": [
              "        기간    기준년월     업종   상세업종       시간         매출금액     매출건수  건당매출금액\n",
              "8   20192Q  201904   서비스   배달서비스  00시-03시   2003130000    91878   21802\n",
              "9   20192Q  201904   서비스   배달서비스  03시-06시    359864000    16920   21269\n",
              "10  20192Q  201904   서비스   배달서비스  06시-09시    244046000    12375   19721\n",
              "11  20192Q  201904   서비스   배달서비스  09시-12시   4276010000   219854   19449\n",
              "12  20192Q  201904   서비스   배달서비스  09시-15시   8593612000   441558   19462\n",
              "13  20192Q  201904   서비스   배달서비스  15시-18시  10732486000   526174   20397\n",
              "14  20192Q  201904   서비스   배달서비스  18시-21시  22964320000  1088717   21093\n",
              "15  20192Q  201904   서비스   배달서비스  21시-24시  10005403000   469362   21317\n",
              "8   20202Q  202004    서비스  배달서비스  00시-03시   2881068000   131435   21920\n",
              "9   20202Q  202004    서비스  배달서비스  03시-06시    560187000    25918   21614\n",
              "10  20202Q  202004    서비스  배달서비스  06시-09시    512083000    26141   19589\n",
              "11  20202Q  202004    서비스  배달서비스  09시-12시   9985664000   504003   19813\n",
              "12  20202Q  202004    서비스  배달서비스  09시-15시  17431447000   868281   20076\n",
              "13  20202Q  202004    서비스  배달서비스  15시-18시  19887704000   896628   22181\n",
              "14  20202Q  202004    서비스  배달서비스  18시-21시  39425279000  1720584   22914\n",
              "15  20202Q  202004    서비스  배달서비스  21시-24시  14693356000   671311   21888"
            ]
          },
          "metadata": {},
          "execution_count": 171
        }
      ]
    },
    {
      "cell_type": "code",
      "metadata": {
        "colab": {
          "base_uri": "https://localhost:8080/",
          "height": 542
        },
        "id": "KAwB8wsC7hFp",
        "outputId": "a1224703-8e2b-419b-e49e-57e4ebef0079"
      },
      "source": [
        "#대형이커머스 concat\n",
        "data_대형이커머스=pd.concat([data_대형이커머스_19,data_대형이커머스_20])\n",
        "data_대형이커머스"
      ],
      "execution_count": null,
      "outputs": [
        {
          "output_type": "execute_result",
          "data": {
            "text/html": [
              "<div>\n",
              "<style scoped>\n",
              "    .dataframe tbody tr th:only-of-type {\n",
              "        vertical-align: middle;\n",
              "    }\n",
              "\n",
              "    .dataframe tbody tr th {\n",
              "        vertical-align: top;\n",
              "    }\n",
              "\n",
              "    .dataframe thead th {\n",
              "        text-align: right;\n",
              "    }\n",
              "</style>\n",
              "<table border=\"1\" class=\"dataframe\">\n",
              "  <thead>\n",
              "    <tr style=\"text-align: right;\">\n",
              "      <th></th>\n",
              "      <th>기간</th>\n",
              "      <th>기준년월</th>\n",
              "      <th>업종</th>\n",
              "      <th>상세업종</th>\n",
              "      <th>시간</th>\n",
              "      <th>매출금액</th>\n",
              "      <th>매출건수</th>\n",
              "      <th>건당매출금액</th>\n",
              "    </tr>\n",
              "  </thead>\n",
              "  <tbody>\n",
              "    <tr>\n",
              "      <th>0</th>\n",
              "      <td>20192Q</td>\n",
              "      <td>201904</td>\n",
              "      <td>유통</td>\n",
              "      <td>대형이커머스</td>\n",
              "      <td>00시-03시</td>\n",
              "      <td>67835110000</td>\n",
              "      <td>1460791</td>\n",
              "      <td>46437</td>\n",
              "    </tr>\n",
              "    <tr>\n",
              "      <th>1</th>\n",
              "      <td>20192Q</td>\n",
              "      <td>201904</td>\n",
              "      <td>유통</td>\n",
              "      <td>대형이커머스</td>\n",
              "      <td>03시-06시</td>\n",
              "      <td>16756200000</td>\n",
              "      <td>359502</td>\n",
              "      <td>46609</td>\n",
              "    </tr>\n",
              "    <tr>\n",
              "      <th>2</th>\n",
              "      <td>20192Q</td>\n",
              "      <td>201904</td>\n",
              "      <td>유통</td>\n",
              "      <td>대형이커머스</td>\n",
              "      <td>06시-09시</td>\n",
              "      <td>50656932000</td>\n",
              "      <td>1156789</td>\n",
              "      <td>43791</td>\n",
              "    </tr>\n",
              "    <tr>\n",
              "      <th>3</th>\n",
              "      <td>20192Q</td>\n",
              "      <td>201904</td>\n",
              "      <td>유통</td>\n",
              "      <td>대형이커머스</td>\n",
              "      <td>09시-12시</td>\n",
              "      <td>146793974000</td>\n",
              "      <td>2614552</td>\n",
              "      <td>56145</td>\n",
              "    </tr>\n",
              "    <tr>\n",
              "      <th>4</th>\n",
              "      <td>20192Q</td>\n",
              "      <td>201904</td>\n",
              "      <td>유통</td>\n",
              "      <td>대형이커머스</td>\n",
              "      <td>09시-15시</td>\n",
              "      <td>152581168000</td>\n",
              "      <td>2609486</td>\n",
              "      <td>58472</td>\n",
              "    </tr>\n",
              "    <tr>\n",
              "      <th>5</th>\n",
              "      <td>20192Q</td>\n",
              "      <td>201904</td>\n",
              "      <td>유통</td>\n",
              "      <td>대형이커머스</td>\n",
              "      <td>15시-18시</td>\n",
              "      <td>152290067000</td>\n",
              "      <td>2691466</td>\n",
              "      <td>56583</td>\n",
              "    </tr>\n",
              "    <tr>\n",
              "      <th>6</th>\n",
              "      <td>20192Q</td>\n",
              "      <td>201904</td>\n",
              "      <td>유통</td>\n",
              "      <td>대형이커머스</td>\n",
              "      <td>18시-21시</td>\n",
              "      <td>127300822000</td>\n",
              "      <td>2570837</td>\n",
              "      <td>49517</td>\n",
              "    </tr>\n",
              "    <tr>\n",
              "      <th>7</th>\n",
              "      <td>20192Q</td>\n",
              "      <td>201904</td>\n",
              "      <td>유통</td>\n",
              "      <td>대형이커머스</td>\n",
              "      <td>21시-24시</td>\n",
              "      <td>172747162000</td>\n",
              "      <td>3521729</td>\n",
              "      <td>49052</td>\n",
              "    </tr>\n",
              "    <tr>\n",
              "      <th>8</th>\n",
              "      <td>20202Q</td>\n",
              "      <td>202004</td>\n",
              "      <td>유통</td>\n",
              "      <td>대형이커머스</td>\n",
              "      <td>00시-03시</td>\n",
              "      <td>84417428000</td>\n",
              "      <td>1914209</td>\n",
              "      <td>44100</td>\n",
              "    </tr>\n",
              "    <tr>\n",
              "      <th>9</th>\n",
              "      <td>20202Q</td>\n",
              "      <td>202004</td>\n",
              "      <td>유통</td>\n",
              "      <td>대형이커머스</td>\n",
              "      <td>03시-06시</td>\n",
              "      <td>21831849000</td>\n",
              "      <td>493359</td>\n",
              "      <td>44251</td>\n",
              "    </tr>\n",
              "    <tr>\n",
              "      <th>10</th>\n",
              "      <td>20202Q</td>\n",
              "      <td>202004</td>\n",
              "      <td>유통</td>\n",
              "      <td>대형이커머스</td>\n",
              "      <td>06시-09시</td>\n",
              "      <td>59554189000</td>\n",
              "      <td>1351220</td>\n",
              "      <td>44074</td>\n",
              "    </tr>\n",
              "    <tr>\n",
              "      <th>11</th>\n",
              "      <td>20202Q</td>\n",
              "      <td>202004</td>\n",
              "      <td>유통</td>\n",
              "      <td>대형이커머스</td>\n",
              "      <td>09시-12시</td>\n",
              "      <td>180460214000</td>\n",
              "      <td>3573735</td>\n",
              "      <td>50496</td>\n",
              "    </tr>\n",
              "    <tr>\n",
              "      <th>12</th>\n",
              "      <td>20202Q</td>\n",
              "      <td>202004</td>\n",
              "      <td>유통</td>\n",
              "      <td>대형이커머스</td>\n",
              "      <td>09시-15시</td>\n",
              "      <td>194409659000</td>\n",
              "      <td>3659945</td>\n",
              "      <td>53118</td>\n",
              "    </tr>\n",
              "    <tr>\n",
              "      <th>13</th>\n",
              "      <td>20202Q</td>\n",
              "      <td>202004</td>\n",
              "      <td>유통</td>\n",
              "      <td>대형이커머스</td>\n",
              "      <td>15시-18시</td>\n",
              "      <td>186270000000</td>\n",
              "      <td>3575557</td>\n",
              "      <td>52095</td>\n",
              "    </tr>\n",
              "    <tr>\n",
              "      <th>14</th>\n",
              "      <td>20202Q</td>\n",
              "      <td>202004</td>\n",
              "      <td>유통</td>\n",
              "      <td>대형이커머스</td>\n",
              "      <td>18시-21시</td>\n",
              "      <td>170481760000</td>\n",
              "      <td>3575147</td>\n",
              "      <td>47685</td>\n",
              "    </tr>\n",
              "    <tr>\n",
              "      <th>15</th>\n",
              "      <td>20202Q</td>\n",
              "      <td>202004</td>\n",
              "      <td>유통</td>\n",
              "      <td>대형이커머스</td>\n",
              "      <td>21시-24시</td>\n",
              "      <td>204030037000</td>\n",
              "      <td>4375967</td>\n",
              "      <td>46625</td>\n",
              "    </tr>\n",
              "  </tbody>\n",
              "</table>\n",
              "</div>"
            ],
            "text/plain": [
              "        기간    기준년월    업종    상세업종       시간          매출금액     매출건수  건당매출금액\n",
              "0   20192Q  201904   유통   대형이커머스  00시-03시   67835110000  1460791   46437\n",
              "1   20192Q  201904   유통   대형이커머스  03시-06시   16756200000   359502   46609\n",
              "2   20192Q  201904   유통   대형이커머스  06시-09시   50656932000  1156789   43791\n",
              "3   20192Q  201904   유통   대형이커머스  09시-12시  146793974000  2614552   56145\n",
              "4   20192Q  201904   유통   대형이커머스  09시-15시  152581168000  2609486   58472\n",
              "5   20192Q  201904   유통   대형이커머스  15시-18시  152290067000  2691466   56583\n",
              "6   20192Q  201904   유통   대형이커머스  18시-21시  127300822000  2570837   49517\n",
              "7   20192Q  201904   유통   대형이커머스  21시-24시  172747162000  3521729   49052\n",
              "8   20202Q  202004    유통  대형이커머스  00시-03시   84417428000  1914209   44100\n",
              "9   20202Q  202004    유통  대형이커머스  03시-06시   21831849000   493359   44251\n",
              "10  20202Q  202004    유통  대형이커머스  06시-09시   59554189000  1351220   44074\n",
              "11  20202Q  202004    유통  대형이커머스  09시-12시  180460214000  3573735   50496\n",
              "12  20202Q  202004    유통  대형이커머스  09시-15시  194409659000  3659945   53118\n",
              "13  20202Q  202004    유통  대형이커머스  15시-18시  186270000000  3575557   52095\n",
              "14  20202Q  202004    유통  대형이커머스  18시-21시  170481760000  3575147   47685\n",
              "15  20202Q  202004    유통  대형이커머스  21시-24시  204030037000  4375967   46625"
            ]
          },
          "metadata": {},
          "execution_count": 176
        }
      ]
    },
    {
      "cell_type": "code",
      "metadata": {
        "id": "PhDfhYv-7hNM"
      },
      "source": [
        ""
      ],
      "execution_count": null,
      "outputs": []
    },
    {
      "cell_type": "markdown",
      "metadata": {
        "id": "r6lu5hh_QJnV"
      },
      "source": [
        "# 4. 데이터 시각화"
      ]
    },
    {
      "cell_type": "code",
      "metadata": {
        "id": "AFNzWFH8QQgW"
      },
      "source": [
        "import matplotlib\n",
        "import matplotlib.pyplot as plt\n",
        "import numpy as np\n",
        "import matplotlib.font_manager as fm \n",
        "import seaborn as sns\n",
        "import matplotlib.ticker as ticker"
      ],
      "execution_count": null,
      "outputs": []
    },
    {
      "cell_type": "code",
      "metadata": {
        "colab": {
          "base_uri": "https://localhost:8080/"
        },
        "id": "pFypQc1Yk_xM",
        "outputId": "fd084713-5378-403d-fbe0-ae89987e6c94"
      },
      "source": [
        "!sudo apt-get install -y fonts-nanum\n",
        "!sudo fc-cache -fv\n",
        "!rm ~/.cache/matplotlib -rf"
      ],
      "execution_count": null,
      "outputs": [
        {
          "output_type": "stream",
          "text": [
            "Reading package lists... Done\n",
            "Building dependency tree       \n",
            "Reading state information... Done\n",
            "fonts-nanum is already the newest version (20170925-1).\n",
            "The following package was automatically installed and is no longer required:\n",
            "  libnvidia-common-460\n",
            "Use 'sudo apt autoremove' to remove it.\n",
            "0 upgraded, 0 newly installed, 0 to remove and 40 not upgraded.\n",
            "/usr/share/fonts: caching, new cache contents: 0 fonts, 1 dirs\n",
            "/usr/share/fonts/truetype: caching, new cache contents: 0 fonts, 3 dirs\n",
            "/usr/share/fonts/truetype/humor-sans: caching, new cache contents: 1 fonts, 0 dirs\n",
            "/usr/share/fonts/truetype/liberation: caching, new cache contents: 16 fonts, 0 dirs\n",
            "/usr/share/fonts/truetype/nanum: caching, new cache contents: 10 fonts, 0 dirs\n",
            "/usr/local/share/fonts: caching, new cache contents: 0 fonts, 0 dirs\n",
            "/root/.local/share/fonts: skipping, no such directory\n",
            "/root/.fonts: skipping, no such directory\n",
            "/var/cache/fontconfig: cleaning cache directory\n",
            "/root/.cache/fontconfig: not cleaning non-existent cache directory\n",
            "/root/.fontconfig: not cleaning non-existent cache directory\n",
            "fc-cache: succeeded\n"
          ],
          "name": "stdout"
        }
      ]
    },
    {
      "cell_type": "code",
      "metadata": {
        "id": "XPvLonY0Qdn8"
      },
      "source": [
        "plt.rc('font', family='NanumBarunGothic') "
      ],
      "execution_count": null,
      "outputs": []
    },
    {
      "cell_type": "code",
      "metadata": {
        "id": "2HctvqzvdYlI",
        "colab": {
          "base_uri": "https://localhost:8080/",
          "height": 637
        },
        "outputId": "2b8601e4-2bb7-4d00-bebc-73e4cb0254d2"
      },
      "source": [
        "#2019년 4월 기타 부문 매출 건수&2020년 4월 기타 부문 매출 건수\n",
        "\n",
        "plt.figure(figsize=(20,10))\n",
        "plt.subplot(221)\n",
        "data_기타_19_g=plt.barh(data_기타_19['시간'],data_기타_19['매출건수'],color='g')\n",
        "plt.title('2019년 04월 기타 부문 매출건수')\n",
        "plt.xlabel('매출건수')\n",
        "plt.ylabel('시간')\n",
        "plt.show()\n",
        "\n",
        "\n",
        "plt.figure(figsize=(20,10))\n",
        "plt.subplot(222)\n",
        "data_기타_20_g=plt.barh(data_기타_20['시간'],data_기타_20['매출건수'],color='b')\n",
        "plt.title('2020년 04월 기타 부문 매출건수')\n",
        "plt.xlabel('매출건수')\n",
        "plt.ylabel('시간')\n",
        "plt.show()"
      ],
      "execution_count": null,
      "outputs": [
        {
          "output_type": "display_data",
          "data": {
            "image/png": "[encoded data removed]",
            "text/plain": [
              "<Figure size 1440x720 with 1 Axes>"
            ]
          },
          "metadata": {}
        },
        {
          "output_type": "display_data",
          "data": {
            "image/png": "[encoded data removed]",
            "text/plain": [
              "<Figure size 1440x720 with 1 Axes>"
            ]
          },
          "metadata": {}
        }
      ]
    },
    {
      "cell_type": "code",
      "metadata": {
        "colab": {
          "base_uri": "https://localhost:8080/",
          "height": 424
        },
        "id": "BbRWZspYj4kG",
        "outputId": "017505e6-edcb-43a8-8b40-8ef5d120fd07"
      },
      "source": [
        "#상세업종에 따른 19년도 매출건수 확인\n",
        "plt.figure(figsize=(20,6))\n",
        "data_기타_19_g_g=sns.lineplot(x=data_기타_20['시간'],y=data_기타_20['매출건수'], hue=data_기타_20['상세업종'])\n",
        "plt.title(\"상세업종에 따른 19년도 기타 매출건수 확인\")"
      ],
      "execution_count": null,
      "outputs": [
        {
          "output_type": "execute_result",
          "data": {
            "text/plain": [
              "Text(0.5, 1.0, '상세업종에 따른 19년도 기타 매출건수 확인')"
            ]
          },
          "metadata": {},
          "execution_count": 153
        },
        {
          "output_type": "display_data",
          "data": {
            "image/png": "[encoded data removed]",
            "text/plain": [
              "<Figure size 1440x432 with 1 Axes>"
            ]
          },
          "metadata": {}
        }
      ]
    },
    {
      "cell_type": "code",
      "metadata": {
        "colab": {
          "base_uri": "https://localhost:8080/",
          "height": 424
        },
        "id": "ohpn84S1phpV",
        "outputId": "5beddaae-1e4d-46e6-c02b-4859107c33b0"
      },
      "source": [
        "#상세업종에 따른 20년도 매출 건수 확인\n",
        "plt.figure(figsize=(20,6))\n",
        "data_기타_20_g_g=sns.lineplot(x=data_기타_20['시간'],y=data_기타_20['매출건수'], hue=data_기타_20['상세업종'])\n",
        "plt.title(\"상세업종에 따른 20년도 기타 매출건수 확인\")"
      ],
      "execution_count": null,
      "outputs": [
        {
          "output_type": "execute_result",
          "data": {
            "text/plain": [
              "Text(0.5, 1.0, '상세업종에 따른 20년도 기타 매출건수 확인')"
            ]
          },
          "metadata": {},
          "execution_count": 154
        },
        {
          "output_type": "display_data",
          "data": {
            "image/png": "[encoded data removed]",
            "text/plain": [
              "<Figure size 1440x432 with 1 Axes>"
            ]
          },
          "metadata": {}
        }
      ]
    },
    {
      "cell_type": "code",
      "metadata": {
        "id": "GvzKbie3pyiw",
        "colab": {
          "base_uri": "https://localhost:8080/",
          "height": 637
        },
        "outputId": "a75ccdf3-773d-41f1-b811-5f925c261c62"
      },
      "source": [
        "#2019년 4월 서비스 부문 매출 건수&2020년 4월 서비스 부문 매출 건수\n",
        "\n",
        "plt.figure(figsize=(20\n",
        "                    ,10))\n",
        "plt.subplot(221)\n",
        "data_서비스_19_g=plt.barh(data_서비스_19['시간'],data_서비스_19['매출건수'],color='violet')\n",
        "plt.title('2019년 04월 서비스 부문 매출건수')\n",
        "plt.xlabel('매출건수')\n",
        "plt.ylabel('시간')\n",
        "plt.xlim([0,2000000])\n",
        "plt.show()\n",
        "\n",
        "\n",
        "plt.figure(figsize=(20,10))\n",
        "plt.subplot(222)\n",
        "data_서비스_20_g=plt.barh(data_서비스_20['시간'],data_서비스_20['매출건수'],color='limegreen')\n",
        "plt.title('2020년 04월 서비스 부문 매출건수')\n",
        "plt.xlabel('매출건수')\n",
        "plt.ylabel('시간')\n",
        "plt.xlim([0,2000000])\n",
        "plt.show()"
      ],
      "execution_count": null,
      "outputs": [
        {
          "output_type": "display_data",
          "data": {
            "image/png": "[encoded data removed]",
            "text/plain": [
              "<Figure size 1440x720 with 1 Axes>"
            ]
          },
          "metadata": {}
        },
        {
          "output_type": "display_data",
          "data": {
            "image/png": "[encoded data removed]",
            "text/plain": [
              "<Figure size 1440x720 with 1 Axes>"
            ]
          },
          "metadata": {}
        }
      ]
    },
    {
      "cell_type": "code",
      "metadata": {
        "id": "LrUbGAvcrS8M",
        "colab": {
          "base_uri": "https://localhost:8080/",
          "height": 424
        },
        "outputId": "484ac5f5-5673-4755-f9af-d5f75f2634ee"
      },
      "source": [
        "#상세업종에 따른 19년도 서비스 매출건수 확인\n",
        "plt.figure(figsize=(20,6))\n",
        "data_서비스_19_g_g=sns.lineplot(x=data_서비스_19['시간'],y=data_서비스_19['매출건수'], hue=data_서비스_19['상세업종'])\n",
        "plt.ylim([0,2000000])\n",
        "plt.title(\"상세업종에 따른 19년도 서비스 매출건수 확인\")"
      ],
      "execution_count": null,
      "outputs": [
        {
          "output_type": "execute_result",
          "data": {
            "text/plain": [
              "Text(0.5, 1.0, '상세업종에 따른 19년도 서비스 매출건수 확인')"
            ]
          },
          "metadata": {},
          "execution_count": 156
        },
        {
          "output_type": "display_data",
          "data": {
            "image/png": "[encoded data removed]",
            "text/plain": [
              "<Figure size 1440x432 with 1 Axes>"
            ]
          },
          "metadata": {}
        }
      ]
    },
    {
      "cell_type": "code",
      "metadata": {
        "colab": {
          "base_uri": "https://localhost:8080/",
          "height": 424
        },
        "id": "a8Es-5iorf2Q",
        "outputId": "f98bf072-efd9-4747-a20e-71158d880e34"
      },
      "source": [
        "#상세업종에 따른 20년도 서비스 매출건수 확인\n",
        "plt.figure(figsize=(20,6))\n",
        "data_서비스_20_g_g=sns.lineplot(x=data_서비스_20['시간'],y=data_서비스_20['매출건수'], hue=data_서비스_20['상세업종'])\n",
        "plt.ylim([0,2000000])\n",
        "plt.title(\"상세업종에 따른 20년도 서비스 매출건수 확인\")"
      ],
      "execution_count": null,
      "outputs": [
        {
          "output_type": "execute_result",
          "data": {
            "text/plain": [
              "Text(0.5, 1.0, '상세업종에 따른 20년도 서비스 매출건수 확인')"
            ]
          },
          "metadata": {},
          "execution_count": 157
        },
        {
          "output_type": "display_data",
          "data": {
            "image/png": "[encoded data removed]",
            "text/plain": [
              "<Figure size 1440x432 with 1 Axes>"
            ]
          },
          "metadata": {}
        }
      ]
    },
    {
      "cell_type": "code",
      "metadata": {
        "colab": {
          "base_uri": "https://localhost:8080/",
          "height": 637
        },
        "id": "AxyQ4IFnrrBU",
        "outputId": "8c9fd05a-39a6-4e78-fd5d-b610ccf47818"
      },
      "source": [
        "#2019년 4월 유통 부문 매출 건수&2020년 4월 유통 부문 매출 건수\n",
        "\n",
        "plt.figure(figsize=(20\n",
        "                    ,10))\n",
        "plt.subplot(221)\n",
        "data_유통_19_g=plt.barh(data_유통_19['시간'],data_유통_19['매출건수'],color='orange')\n",
        "plt.title('2019년 04월 유통 부문 매출건수')\n",
        "plt.xlabel('매출건수')\n",
        "plt.ylabel('시간')\n",
        "plt.xlim([0,5000000])\n",
        "plt.show()\n",
        "\n",
        "\n",
        "plt.figure(figsize=(20,10))\n",
        "plt.subplot(222)\n",
        "data_유통_20_g=plt.barh(data_유통_20['시간'],data_유통_20['매출건수'],color='lightcoral')\n",
        "plt.title('2020년 04월 유통 부문 매출건수')\n",
        "plt.xlabel('매출건수')\n",
        "plt.ylabel('시간')\n",
        "plt.xlim([0,5000000])\n",
        "plt.show()"
      ],
      "execution_count": null,
      "outputs": [
        {
          "output_type": "display_data",
          "data": {
            "image/png": "[encoded data removed]",
            "text/plain": [
              "<Figure size 1440x720 with 1 Axes>"
            ]
          },
          "metadata": {}
        },
        {
          "output_type": "display_data",
          "data": {
            "image/png": "[encoded data removed]",
            "text/plain": [
              "<Figure size 1440x720 with 1 Axes>"
            ]
          },
          "metadata": {}
        }
      ]
    },
    {
      "cell_type": "code",
      "metadata": {
        "colab": {
          "base_uri": "https://localhost:8080/",
          "height": 424
        },
        "id": "AiSe3tQavb5w",
        "outputId": "38fb3746-d991-4323-bf7f-4f498c5ee7a1"
      },
      "source": [
        "#상세업종에 따른 19년도 유통 매출건수 확인\n",
        "plt.figure(figsize=(20,6))\n",
        "data_유통_19_g_g=sns.lineplot(x=data_유통_19['시간'],y=data_유통_19['매출건수'], hue=data_유통_19['상세업종'])\n",
        "plt.ylim([0,5000000])\n",
        "plt.title(\"상세업종에 따른 19년도 유통 매출건수 확인\")"
      ],
      "execution_count": null,
      "outputs": [
        {
          "output_type": "execute_result",
          "data": {
            "text/plain": [
              "Text(0.5, 1.0, '상세업종에 따른 19년도 유통 매출건수 확인')"
            ]
          },
          "metadata": {},
          "execution_count": 159
        },
        {
          "output_type": "display_data",
          "data": {
            "image/png": "[encoded data removed]",
            "text/plain": [
              "<Figure size 1440x432 with 1 Axes>"
            ]
          },
          "metadata": {}
        }
      ]
    },
    {
      "cell_type": "code",
      "metadata": {
        "colab": {
          "base_uri": "https://localhost:8080/",
          "height": 424
        },
        "id": "lSOJCgr2vw5E",
        "outputId": "be55853b-0286-4b84-c0d3-2221c1cd6645"
      },
      "source": [
        "#상세업종에 따른 20년도 유통 매출건수 확인\n",
        "plt.figure(figsize=(20,6))\n",
        "data_유통_20_g_g=sns.lineplot(x=data_유통_20['시간'],y=data_유통_20['매출건수'], hue=data_유통_20['상세업종'])\n",
        "plt.ylim([0,5000000])\n",
        "plt.title(\"상세업종에 따른 20년도 유통 매출건수 확인\")\n"
      ],
      "execution_count": null,
      "outputs": [
        {
          "output_type": "execute_result",
          "data": {
            "text/plain": [
              "Text(0.5, 1.0, '상세업종에 따른 20년도 유통 매출건수 확인')"
            ]
          },
          "metadata": {},
          "execution_count": 160
        },
        {
          "output_type": "display_data",
          "data": {
            "image/png": "[encoded data removed]",
            "text/plain": [
              "<Figure size 1440x432 with 1 Axes>"
            ]
          },
          "metadata": {}
        }
      ]
    },
    {
      "cell_type": "code",
      "metadata": {
        "colab": {
          "base_uri": "https://localhost:8080/",
          "height": 314
        },
        "id": "KkBOjs1ev-Ig",
        "outputId": "2e322450-19f6-4623-e81d-ca3d486b65b8"
      },
      "source": [
        "#관광 및 레저 분야 매출건수 비교\n",
        "sns.barplot(data=data_관광_레져, x='기간', y='매출건수',ci=None)\n",
        "plt.title(\"관광 및 레져 분야 매출건수 비교\")\n"
      ],
      "execution_count": null,
      "outputs": [
        {
          "output_type": "execute_result",
          "data": {
            "text/plain": [
              "Text(0.5, 1.0, '관광 및 레져 분야 매출건수 비교')"
            ]
          },
          "metadata": {},
          "execution_count": 178
        },
        {
          "output_type": "display_data",
          "data": {
            "image/png": "[encoded data removed]",
            "text/plain": [
              "<Figure size 432x288 with 1 Axes>"
            ]
          },
          "metadata": {}
        }
      ]
    },
    {
      "cell_type": "code",
      "metadata": {
        "colab": {
          "base_uri": "https://localhost:8080/",
          "height": 314
        },
        "id": "CrekJqn41ZSV",
        "outputId": "13849b85-44f7-4dee-deb2-b570f728ef5f"
      },
      "source": [
        "#배달서비스 분야 매출건수 비교\n",
        "sns.barplot(data=data_배달서비스, x='기간', y='매출건수',ci=None)\n",
        "plt.title(\"배달서비스 분야 매출건수 비교\")"
      ],
      "execution_count": null,
      "outputs": [
        {
          "output_type": "execute_result",
          "data": {
            "text/plain": [
              "Text(0.5, 1.0, '배달서비스 분야 매출건수 비교')"
            ]
          },
          "metadata": {},
          "execution_count": 179
        },
        {
          "output_type": "display_data",
          "data": {
            "image/png": "[encoded data removed]",
            "text/plain": [
              "<Figure size 432x288 with 1 Axes>"
            ]
          },
          "metadata": {}
        }
      ]
    },
    {
      "cell_type": "code",
      "metadata": {
        "colab": {
          "base_uri": "https://localhost:8080/",
          "height": 314
        },
        "id": "MtIz3kXm6NE0",
        "outputId": "7c820021-a213-47a8-d9ac-4171d223e7ba"
      },
      "source": [
        "#대형 이커머스 분야 매출건수 비교\n",
        "sns.barplot(data=data_대형이커머스, x='기간', y='매출건수',ci=None)\n",
        "plt.title(\"대형이커머스 분야 매출건수 비교\")"
      ],
      "execution_count": null,
      "outputs": [
        {
          "output_type": "execute_result",
          "data": {
            "text/plain": [
              "Text(0.5, 1.0, '대형이커머스 분야 매출건수 비교')"
            ]
          },
          "metadata": {},
          "execution_count": 181
        },
        {
          "output_type": "display_data",
          "data": {
            "image/png": "[encoded data removed]",
            "text/plain": [
              "<Figure size 432x288 with 1 Axes>"
            ]
          },
          "metadata": {}
        }
      ]
    },
    {
      "cell_type": "code",
      "metadata": {
        "id": "mWYydFrZ7vFE"
      },
      "source": [
        "#"
      ],
      "execution_count": null,
      "outputs": []
    }
  ]
}